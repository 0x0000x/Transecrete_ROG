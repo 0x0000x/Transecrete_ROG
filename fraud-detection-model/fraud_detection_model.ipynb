{
 "cells": [
  {
   "cell_type": "markdown",
   "id": "f9660b14-69b3-4f6d-a14d-085de9a30150",
   "metadata": {},
   "source": [
    "# i. Application Understanding"
   ]
  },
  {
   "cell_type": "markdown",
   "id": "194113fb-38c5-42ec-8835-fda6dcc934fa",
   "metadata": {},
   "source": [
    "* The Transecret is an online Bank App with an implemented system in detecting fraud in financial transactions made through mobile devices. Transcrete has a service called “Fraud Detection” with no guarantee of blocking fraudulent transactions.\n",
    "\n",
    "* And the business model of Transcrete is of the Service type with the monetization made by the performance of the service provided, that is, the user pays a fixed fee on the success in detecting fraud in the customer's transactions."
   ]
  },
  {
   "cell_type": "markdown",
   "id": "26b7a102-b916-4a13-9c0d-41b1f8d7ec18",
   "metadata": {
    "tags": []
   },
   "source": [
    "## i.ii The Challenge"
   ]
  },
  {
   "cell_type": "markdown",
   "id": "d4041496-0a4b-498c-ae00-5130982df8ba",
   "metadata": {},
   "source": [
    "A production model in which your access will be done via API, that is, users will send their transactions via API so that your model classifies them as fraudulent or legitimate."
   ]
  },
  {
   "cell_type": "markdown",
   "id": "cc12d5c7-e14a-41a3-ac52-54b4a2e08ba3",
   "metadata": {},
   "source": [
    "## Import Python packages"
   ]
  },
  {
   "cell_type": "code",
   "execution_count": 1,
   "id": "b24b1a30-867d-4b08-81c9-77543c802b87",
   "metadata": {},
   "outputs": [
    {
     "name": "stderr",
     "output_type": "stream",
     "text": [
      "2024-02-26 20:44:55.048501: I external/local_tsl/tsl/cuda/cudart_stub.cc:31] Could not find cuda drivers on your machine, GPU will not be used.\n",
      "2024-02-26 20:44:55.101154: E external/local_xla/xla/stream_executor/cuda/cuda_dnn.cc:9261] Unable to register cuDNN factory: Attempting to register factory for plugin cuDNN when one has already been registered\n",
      "2024-02-26 20:44:55.101189: E external/local_xla/xla/stream_executor/cuda/cuda_fft.cc:607] Unable to register cuFFT factory: Attempting to register factory for plugin cuFFT when one has already been registered\n",
      "2024-02-26 20:44:55.102690: E external/local_xla/xla/stream_executor/cuda/cuda_blas.cc:1515] Unable to register cuBLAS factory: Attempting to register factory for plugin cuBLAS when one has already been registered\n",
      "2024-02-26 20:44:55.111451: I external/local_tsl/tsl/cuda/cudart_stub.cc:31] Could not find cuda drivers on your machine, GPU will not be used.\n",
      "2024-02-26 20:44:55.112687: I tensorflow/core/platform/cpu_feature_guard.cc:182] This TensorFlow binary is optimized to use available CPU instructions in performance-critical operations.\n",
      "To enable the following instructions: AVX2 FMA, in other operations, rebuild TensorFlow with the appropriate compiler flags.\n"
     ]
    }
   ],
   "source": [
    "import itertools\n",
    "import numpy as np\n",
    "import pandas as pd\n",
    "import tensorflow as tf\n",
    "import json\n",
    "import matplotlib as mpl\n",
    "import matplotlib.pyplot as plt\n",
    "# import explainable_ai_sdk \n",
    "import explainable_ai_sdk as xai\n",
    "\n",
    "from sklearn.utils import shuffle\n",
    "from sklearn.metrics import confusion_matrix\n",
    "from sklearn.preprocessing import StandardScaler\n",
    "from tensorflow import keras\n",
    "from explainable_ai_sdk.metadata.tf.v2 import SavedModelMetadataBuilder"
   ]
  },
  {
   "cell_type": "code",
   "execution_count": 2,
   "id": "644ad1c4-c1d9-4d2f-b236-ead6edd4870b",
   "metadata": {
    "tags": []
   },
   "outputs": [
    {
     "name": "stdout",
     "output_type": "stream",
     "text": [
      "Copying gs://financial_fraud_detection/fraud_data_kaggle.csv...\n",
      "- [1 files][303.4 MiB/303.4 MiB]                                                \n",
      "Operation completed over 1 objects/303.4 MiB.                                    \n"
     ]
    }
   ],
   "source": [
    "#Step 1: Download the Kaggle dataset and read with Pandas\n",
    "!gsutil cp gs://financial_fraud_detection/fraud_data_kaggle.csv ."
   ]
  },
  {
   "cell_type": "code",
   "execution_count": 3,
   "id": "15747d1d-2d6e-4018-999b-66c2f6c61ad5",
   "metadata": {
    "tags": []
   },
   "outputs": [
    {
     "data": {
      "text/html": [
       "<div>\n",
       "<style scoped>\n",
       "    .dataframe tbody tr th:only-of-type {\n",
       "        vertical-align: middle;\n",
       "    }\n",
       "\n",
       "    .dataframe tbody tr th {\n",
       "        vertical-align: top;\n",
       "    }\n",
       "\n",
       "    .dataframe thead th {\n",
       "        text-align: right;\n",
       "    }\n",
       "</style>\n",
       "<table border=\"1\" class=\"dataframe\">\n",
       "  <thead>\n",
       "    <tr style=\"text-align: right;\">\n",
       "      <th></th>\n",
       "      <th>step</th>\n",
       "      <th>amount</th>\n",
       "      <th>nameOrig</th>\n",
       "      <th>oldbalanceOrg</th>\n",
       "      <th>newbalanceOrig</th>\n",
       "      <th>nameDest</th>\n",
       "      <th>oldbalanceDest</th>\n",
       "      <th>newbalanceDest</th>\n",
       "      <th>isFraud</th>\n",
       "      <th>isFlaggedFraud</th>\n",
       "    </tr>\n",
       "  </thead>\n",
       "  <tbody>\n",
       "    <tr>\n",
       "      <th>0</th>\n",
       "      <td>1</td>\n",
       "      <td>9839.64</td>\n",
       "      <td>C1231006815</td>\n",
       "      <td>170136.0</td>\n",
       "      <td>160296.36</td>\n",
       "      <td>M1979787155</td>\n",
       "      <td>0.0</td>\n",
       "      <td>0.0</td>\n",
       "      <td>0.0</td>\n",
       "      <td>0.0</td>\n",
       "    </tr>\n",
       "    <tr>\n",
       "      <th>1</th>\n",
       "      <td>1</td>\n",
       "      <td>1864.28</td>\n",
       "      <td>C1666544295</td>\n",
       "      <td>21249.0</td>\n",
       "      <td>19384.72</td>\n",
       "      <td>M2044282225</td>\n",
       "      <td>0.0</td>\n",
       "      <td>0.0</td>\n",
       "      <td>0.0</td>\n",
       "      <td>0.0</td>\n",
       "    </tr>\n",
       "    <tr>\n",
       "      <th>2</th>\n",
       "      <td>1</td>\n",
       "      <td>181.00</td>\n",
       "      <td>C1305486145</td>\n",
       "      <td>181.0</td>\n",
       "      <td>0.00</td>\n",
       "      <td>C553264065</td>\n",
       "      <td>0.0</td>\n",
       "      <td>0.0</td>\n",
       "      <td>1.0</td>\n",
       "      <td>0.0</td>\n",
       "    </tr>\n",
       "    <tr>\n",
       "      <th>3</th>\n",
       "      <td>1</td>\n",
       "      <td>181.00</td>\n",
       "      <td>C840083671</td>\n",
       "      <td>181.0</td>\n",
       "      <td>0.00</td>\n",
       "      <td>C38997010</td>\n",
       "      <td>21182.0</td>\n",
       "      <td>0.0</td>\n",
       "      <td>1.0</td>\n",
       "      <td>0.0</td>\n",
       "    </tr>\n",
       "    <tr>\n",
       "      <th>4</th>\n",
       "      <td>1</td>\n",
       "      <td>11668.14</td>\n",
       "      <td>C2048537720</td>\n",
       "      <td>41554.0</td>\n",
       "      <td>29885.86</td>\n",
       "      <td>M1230701703</td>\n",
       "      <td>0.0</td>\n",
       "      <td>0.0</td>\n",
       "      <td>0.0</td>\n",
       "      <td>0.0</td>\n",
       "    </tr>\n",
       "  </tbody>\n",
       "</table>\n",
       "</div>"
      ],
      "text/plain": [
       "   step    amount     nameOrig  oldbalanceOrg  newbalanceOrig     nameDest  \\\n",
       "0     1   9839.64  C1231006815       170136.0       160296.36  M1979787155   \n",
       "1     1   1864.28  C1666544295        21249.0        19384.72  M2044282225   \n",
       "2     1    181.00  C1305486145          181.0            0.00   C553264065   \n",
       "3     1    181.00   C840083671          181.0            0.00    C38997010   \n",
       "4     1  11668.14  C2048537720        41554.0        29885.86  M1230701703   \n",
       "\n",
       "   oldbalanceDest  newbalanceDest  isFraud  isFlaggedFraud  \n",
       "0             0.0             0.0      0.0             0.0  \n",
       "1             0.0             0.0      0.0             0.0  \n",
       "2             0.0             0.0      1.0             0.0  \n",
       "3         21182.0             0.0      1.0             0.0  \n",
       "4             0.0             0.0      0.0             0.0  "
      ]
     },
     "execution_count": 3,
     "metadata": {},
     "output_type": "execute_result"
    }
   ],
   "source": [
    "# read the dataset as a Pandas DataFrame and preview it\n",
    "data = pd.read_csv('fraud_data_kaggle.csv')\n",
    "data = data.drop(columns=['type'])\n",
    "data.head()"
   ]
  },
  {
   "cell_type": "markdown",
   "id": "c594fd1d-ff43-4278-8bed-6c11e69d5cce",
   "metadata": {},
   "source": [
    "# Step 2: Accounting for imbalanced data\n",
    "#### Here, we'll be using a technique called downsampling. \n",
    "### Downsampling means using only a small percentage of the majority class in training. \n",
    "### In this case, \"non-fraud\" is the majority class since it accounts for 99.9% of the data.\n",
    "\n",
    "### To downsample our dataset, we'll take all ~8k of the fraudulent examples and a random sample of ~31k of the non-fraud cases. \n",
    "### This way the resulting dataset will have 25% fraud cases, compared to the .1% we had before."
   ]
  },
  {
   "cell_type": "code",
   "execution_count": 4,
   "id": "fad2c630-a8f1-470f-841d-5616d4ddf6a9",
   "metadata": {
    "tags": []
   },
   "outputs": [],
   "source": [
    "# First, split the data into two DataFrames,\n",
    "# one for fraud and one for non-fraud\n",
    "fraud = data[data['isFraud'] == 1]\n",
    "not_fraud = data[data['isFraud'] == 0]"
   ]
  },
  {
   "cell_type": "markdown",
   "id": "0ae7461c-505c-419e-90c3-76839a3457c3",
   "metadata": {
    "tags": []
   },
   "source": [
    "# Then, take a random sample of the non-fraud cases.\n",
    "#### We're using .005% since this will give us a 25/75 split of fraud / non-fraud transactions. \n",
    "#### With that, you can put the data back together and shuffle.\n",
    "#### To simplify things we'll also remove a few columns that we won't be using for training:"
   ]
  },
  {
   "cell_type": "code",
   "execution_count": 5,
   "id": "10ed3466-d281-462e-8f1e-f3d78040a7a4",
   "metadata": {
    "tags": []
   },
   "outputs": [
    {
     "data": {
      "text/html": [
       "<div>\n",
       "<style scoped>\n",
       "    .dataframe tbody tr th:only-of-type {\n",
       "        vertical-align: middle;\n",
       "    }\n",
       "\n",
       "    .dataframe tbody tr th {\n",
       "        vertical-align: top;\n",
       "    }\n",
       "\n",
       "    .dataframe thead th {\n",
       "        text-align: right;\n",
       "    }\n",
       "</style>\n",
       "<table border=\"1\" class=\"dataframe\">\n",
       "  <thead>\n",
       "    <tr style=\"text-align: right;\">\n",
       "      <th></th>\n",
       "      <th>step</th>\n",
       "      <th>amount</th>\n",
       "      <th>oldbalanceOrg</th>\n",
       "      <th>newbalanceOrig</th>\n",
       "      <th>oldbalanceDest</th>\n",
       "      <th>newbalanceDest</th>\n",
       "      <th>isFraud</th>\n",
       "    </tr>\n",
       "  </thead>\n",
       "  <tbody>\n",
       "    <tr>\n",
       "      <th>2880934</th>\n",
       "      <td>228</td>\n",
       "      <td>225995.98</td>\n",
       "      <td>187387.00</td>\n",
       "      <td>0.00</td>\n",
       "      <td>2089592.81</td>\n",
       "      <td>2315588.79</td>\n",
       "      <td>0.0</td>\n",
       "    </tr>\n",
       "    <tr>\n",
       "      <th>2485109</th>\n",
       "      <td>204</td>\n",
       "      <td>6758.80</td>\n",
       "      <td>25491.67</td>\n",
       "      <td>18732.88</td>\n",
       "      <td>0.00</td>\n",
       "      <td>0.00</td>\n",
       "      <td>0.0</td>\n",
       "    </tr>\n",
       "    <tr>\n",
       "      <th>3528108</th>\n",
       "      <td>259</td>\n",
       "      <td>21772.92</td>\n",
       "      <td>26341.00</td>\n",
       "      <td>4568.08</td>\n",
       "      <td>0.00</td>\n",
       "      <td>0.00</td>\n",
       "      <td>0.0</td>\n",
       "    </tr>\n",
       "    <tr>\n",
       "      <th>199110</th>\n",
       "      <td>13</td>\n",
       "      <td>582526.39</td>\n",
       "      <td>0.00</td>\n",
       "      <td>0.00</td>\n",
       "      <td>1110543.49</td>\n",
       "      <td>1693069.89</td>\n",
       "      <td>0.0</td>\n",
       "    </tr>\n",
       "    <tr>\n",
       "      <th>550022</th>\n",
       "      <td>21</td>\n",
       "      <td>93966.17</td>\n",
       "      <td>0.00</td>\n",
       "      <td>0.00</td>\n",
       "      <td>3581536.71</td>\n",
       "      <td>3675502.88</td>\n",
       "      <td>0.0</td>\n",
       "    </tr>\n",
       "  </tbody>\n",
       "</table>\n",
       "</div>"
      ],
      "text/plain": [
       "         step     amount  oldbalanceOrg  newbalanceOrig  oldbalanceDest  \\\n",
       "2880934   228  225995.98      187387.00            0.00      2089592.81   \n",
       "2485109   204    6758.80       25491.67        18732.88            0.00   \n",
       "3528108   259   21772.92       26341.00         4568.08            0.00   \n",
       "199110     13  582526.39           0.00            0.00      1110543.49   \n",
       "550022     21   93966.17           0.00            0.00      3581536.71   \n",
       "\n",
       "         newbalanceDest  isFraud  \n",
       "2880934      2315588.79      0.0  \n",
       "2485109            0.00      0.0  \n",
       "3528108            0.00      0.0  \n",
       "199110       1693069.89      0.0  \n",
       "550022       3675502.88      0.0  "
      ]
     },
     "execution_count": 5,
     "metadata": {},
     "output_type": "execute_result"
    }
   ],
   "source": [
    "# Take a random sample of non fraud rows\n",
    "not_fraud_sample = not_fraud.sample(random_state=2, frac=.005)\n",
    "\n",
    "# Put it back together and shuffle\n",
    "df = pd.concat([not_fraud_sample,fraud])\n",
    "df = shuffle(df, random_state=2)\n",
    "\n",
    "# Remove a few columns (isFraud is the label column we'll use, not isFlaggedFraud)\n",
    "df = df.drop(columns=['nameOrig', 'nameDest', 'isFlaggedFraud'])\n",
    "\n",
    "# Preview the updated dataset\n",
    "df.head()"
   ]
  },
  {
   "cell_type": "code",
   "execution_count": 6,
   "id": "366f722a-092b-4115-b327-b13f53467cd5",
   "metadata": {
    "tags": []
   },
   "outputs": [],
   "source": [
    "# Step 3: Split the data into train and test sets\n",
    "train_test_split = int(len(df) * .8)\n",
    "\n",
    "train_set = df[:train_test_split]\n",
    "test_set = df[train_test_split:]\n",
    "\n",
    "train_labels = train_set.pop('isFraud')\n",
    "test_labels = test_set.pop('isFraud')"
   ]
  },
  {
   "cell_type": "markdown",
   "id": "1ca32b3a-cd51-415f-b7dc-b5acafcd86a1",
   "metadata": {},
   "source": [
    "## When training a model on numerical data, it's important to normalize the data, \n",
    "### especially if each column falls in a different range. \n",
    "### This can help prevent loss from exploding during training. \n",
    "### We can normalize our data with the following:"
   ]
  },
  {
   "cell_type": "code",
   "execution_count": 7,
   "id": "00f3e6da-f243-43fe-a930-a5900e22550e",
   "metadata": {
    "tags": []
   },
   "outputs": [],
   "source": [
    "# Normalize the data\n",
    "scaler = StandardScaler()\n",
    "train_set = scaler.fit_transform(train_set) # Only normalize on the train set\n",
    "test_set = scaler.transform(test_set)\n",
    "\n",
    "# clip() ensures all values fall within the range [-5,5]\n",
    "# useful if any outliers remain after normalizing\n",
    "train_set = np.clip(train_set, -5, 5)\n",
    "test_set = np.clip(test_set, -5, 5)"
   ]
  },
  {
   "cell_type": "markdown",
   "id": "1cedaabc-4fad-4dee-b723-a2a6e4340549",
   "metadata": {},
   "source": [
    "## `Then, let's preview our normalized data:`"
   ]
  },
  {
   "cell_type": "code",
   "execution_count": 8,
   "id": "6faaa9a9-4e34-4a77-b3e2-338c457faf1b",
   "metadata": {
    "tags": []
   },
   "outputs": [
    {
     "data": {
      "text/plain": [
       "array([[ 0.74771568, -0.10558206, -0.24744663, -0.26469104,  0.51385876,\n",
       "         0.48591169],\n",
       "       [ 0.48352495, -0.33128635, -0.30457304, -0.25780596, -0.39568077,\n",
       "        -0.43989138],\n",
       "       [ 1.08896205, -0.31582934, -0.30427334, -0.26301209, -0.39568077,\n",
       "        -0.43989138],\n",
       "       ...,\n",
       "       [-1.63000093, -0.2417149 ,  5.        ,  5.        , -0.32594475,\n",
       "        -0.41332417],\n",
       "       [ 0.50554084, -0.24271814, -0.31319682, -0.26469104, -0.39568077,\n",
       "        -0.40279301],\n",
       "       [-0.43013468, -0.28420772,  2.89581808,  3.09750739, -0.18409246,\n",
       "        -0.26652501]])"
      ]
     },
     "execution_count": 8,
     "metadata": {},
     "output_type": "execute_result"
    }
   ],
   "source": [
    "\n",
    "train_set"
   ]
  },
  {
   "cell_type": "markdown",
   "id": "15c2a12d-2951-4e85-84e6-285f1cdd77e4",
   "metadata": {},
   "source": [
    "# Step 2: Determine class weights"
   ]
  },
  {
   "cell_type": "markdown",
   "id": "df7dc57c-0bbe-4f4f-b101-2ca3204ad8d9",
   "metadata": {},
   "source": [
    "When downsampling the data, we still wanted to keep a subset of the non-fraudulent transactions so we didn't lose information on those transactions, which is why we didn't make the data perfectly balanced. Because the dataset is still imbalanced and we care most about correctly identifying fraudulent transactions, we want our model to give more weight to fraudulent examples in our dataset.\n",
    "\n",
    "The Keras `class_weight` parameter lets us specify exactly how much weight we want to give examples from each class, based on how often they occur in the dataset:"
   ]
  },
  {
   "cell_type": "code",
   "execution_count": 9,
   "id": "08cabece-122e-403a-8fff-64d25b7bfeb5",
   "metadata": {
    "tags": []
   },
   "outputs": [],
   "source": [
    "weight_for_non_fraud = 1.0 / df['isFraud'].value_counts()[0]\n",
    "weight_for_fraud = 1.0 / df['isFraud'].value_counts()[1]\n",
    "\n",
    "class_weight = {0: weight_for_non_fraud, 1: weight_for_fraud}"
   ]
  },
  {
   "cell_type": "markdown",
   "id": "2c20ab2c-a8e9-4db5-8323-59e583745f64",
   "metadata": {},
   "source": [
    "##### We'll use this variable when we train our model in the next step."
   ]
  },
  {
   "cell_type": "markdown",
   "id": "c085ffec-7584-4e2f-8236-18dbc4554b2f",
   "metadata": {},
   "source": [
    "# Step 3: Train and evaluate the model"
   ]
  },
  {
   "cell_type": "markdown",
   "id": "1ce809dc-e95d-4b1f-82a2-992e2409b389",
   "metadata": {},
   "source": [
    "We'll build our model using the Keras Sequential Model API, which lets us define our model as a stack of layers. There are a number of metrics we'll track as we're training, which will help us understand how our model is performing on each class in our dataset."
   ]
  },
  {
   "cell_type": "code",
   "execution_count": 10,
   "id": "1db68aa0-a03a-4ef2-815a-123e43f087bd",
   "metadata": {
    "tags": []
   },
   "outputs": [],
   "source": [
    "\n",
    "\n",
    "METRICS = [\n",
    "      keras.metrics.TruePositives(name='tp'),\n",
    "      keras.metrics.FalsePositives(name='fp'),\n",
    "      keras.metrics.TrueNegatives(name='tn'),\n",
    "      keras.metrics.FalseNegatives(name='fn'), \n",
    "      keras.metrics.BinaryAccuracy(name='accuracy'),\n",
    "      keras.metrics.Precision(name='precision'),\n",
    "      keras.metrics.Recall(name='recall'),\n",
    "      keras.metrics.AUC(name='auc'),\n",
    "]\n",
    "\n",
    "def make_model(metrics = METRICS):\n",
    "  model = keras.Sequential([\n",
    "      keras.layers.Dense(\n",
    "          16, activation='relu',\n",
    "          input_shape=(train_set.shape[-1],)),\n",
    "      keras.layers.Dropout(0.5),\n",
    "      keras.layers.Dense(1, activation='sigmoid'),\n",
    "  ])\n",
    "\n",
    "  model.compile(\n",
    "      optimizer=keras.optimizers.Adam(lr=1e-3),\n",
    "      loss=keras.losses.BinaryCrossentropy(),\n",
    "      metrics=metrics)\n",
    "\n",
    "  return model"
   ]
  },
  {
   "cell_type": "markdown",
   "id": "9efe853a-be44-4085-ac9b-5c2424051f25",
   "metadata": {},
   "source": [
    "Then, we'll define a few global variables for use during training along with some early stopping parameters."
   ]
  },
  {
   "cell_type": "code",
   "execution_count": 11,
   "id": "eef39b8b-0447-480e-8ea0-64b028415c0c",
   "metadata": {
    "tags": []
   },
   "outputs": [],
   "source": [
    "EPOCHS = 100\n",
    "BATCH_SIZE = 512\n",
    "\n",
    "early_stopping = tf.keras.callbacks.EarlyStopping(\n",
    "    monitor='val_auc', \n",
    "    verbose=1,\n",
    "    patience=10,\n",
    "    mode='max',\n",
    "    restore_best_weights=True)"
   ]
  },
  {
   "cell_type": "markdown",
   "id": "17829ab4-786a-42f5-9ff2-3e5fda792dac",
   "metadata": {},
   "source": [
    "### Finally, we'll call the function we defined above to make our model:"
   ]
  },
  {
   "cell_type": "code",
   "execution_count": 12,
   "id": "234567d5-1bf1-43b0-a605-c528c84ed8ec",
   "metadata": {
    "tags": []
   },
   "outputs": [
    {
     "name": "stderr",
     "output_type": "stream",
     "text": [
      "WARNING:absl:`lr` is deprecated in Keras optimizer, please use `learning_rate` or use the legacy optimizer, e.g.,tf.keras.optimizers.legacy.Adam.\n"
     ]
    },
    {
     "name": "stdout",
     "output_type": "stream",
     "text": [
      "Model: \"sequential\"\n",
      "_________________________________________________________________\n",
      " Layer (type)                Output Shape              Param #   \n",
      "=================================================================\n",
      " dense (Dense)               (None, 16)                112       \n",
      "                                                                 \n",
      " dropout (Dropout)           (None, 16)                0         \n",
      "                                                                 \n",
      " dense_1 (Dense)             (None, 1)                 17        \n",
      "                                                                 \n",
      "=================================================================\n",
      "Total params: 129 (516.00 Byte)\n",
      "Trainable params: 129 (516.00 Byte)\n",
      "Non-trainable params: 0 (0.00 Byte)\n",
      "_________________________________________________________________\n"
     ]
    }
   ],
   "source": [
    "model = make_model()\n",
    "model.summary()"
   ]
  },
  {
   "cell_type": "markdown",
   "id": "b2f4d74e-e277-4fb5-807e-827b3a0ba6ac",
   "metadata": {},
   "source": [
    "###### We can train our model with the `fit()` method, passing in parameters defined above:"
   ]
  },
  {
   "cell_type": "code",
   "execution_count": 13,
   "id": "9b5ce98c-c235-48a2-9075-4902940915dd",
   "metadata": {
    "tags": []
   },
   "outputs": [
    {
     "name": "stdout",
     "output_type": "stream",
     "text": [
      "Epoch 1/100\n",
      "38/38 [==============================] - 2s 15ms/step - loss: 6.5510e-05 - tp: 1875.0000 - fp: 12277.0000 - tn: 4154.0000 - fn: 834.0000 - accuracy: 0.3150 - precision: 0.1325 - recall: 0.6921 - auc: 0.4502 - val_loss: 0.8325 - val_tp: 498.0000 - val_fp: 2923.0000 - val_tn: 1161.0000 - val_fn: 204.0000 - val_accuracy: 0.3466 - val_precision: 0.1456 - val_recall: 0.7094 - val_auc: 0.4648\n",
      "Epoch 2/100\n",
      "38/38 [==============================] - 0s 4ms/step - loss: 6.1529e-05 - tp: 1890.0000 - fp: 11452.0000 - tn: 4979.0000 - fn: 819.0000 - accuracy: 0.3589 - precision: 0.1417 - recall: 0.6977 - auc: 0.5003 - val_loss: 0.7574 - val_tp: 542.0000 - val_fp: 2825.0000 - val_tn: 1259.0000 - val_fn: 160.0000 - val_accuracy: 0.3763 - val_precision: 0.1610 - val_recall: 0.7721 - val_auc: 0.5484\n",
      "Epoch 3/100\n",
      "38/38 [==============================] - 0s 4ms/step - loss: 5.8061e-05 - tp: 1893.0000 - fp: 10366.0000 - tn: 6065.0000 - fn: 816.0000 - accuracy: 0.4158 - precision: 0.1544 - recall: 0.6988 - auc: 0.5703 - val_loss: 0.7035 - val_tp: 573.0000 - val_fp: 2698.0000 - val_tn: 1386.0000 - val_fn: 129.0000 - val_accuracy: 0.4093 - val_precision: 0.1752 - val_recall: 0.8162 - val_auc: 0.6572\n",
      "Epoch 4/100\n",
      "38/38 [==============================] - 0s 4ms/step - loss: 5.5699e-05 - tp: 1785.0000 - fp: 8669.0000 - tn: 7762.0000 - fn: 924.0000 - accuracy: 0.4988 - precision: 0.1707 - recall: 0.6589 - auc: 0.6162 - val_loss: 0.6634 - val_tp: 508.0000 - val_fp: 1785.0000 - val_tn: 2299.0000 - val_fn: 194.0000 - val_accuracy: 0.5865 - val_precision: 0.2215 - val_recall: 0.7236 - val_auc: 0.7372\n",
      "Epoch 5/100\n",
      "38/38 [==============================] - 0s 4ms/step - loss: 5.3473e-05 - tp: 1754.0000 - fp: 6958.0000 - tn: 9473.0000 - fn: 955.0000 - accuracy: 0.5866 - precision: 0.2013 - recall: 0.6475 - auc: 0.6696 - val_loss: 0.6347 - val_tp: 476.0000 - val_fp: 1215.0000 - val_tn: 2869.0000 - val_fn: 226.0000 - val_accuracy: 0.6989 - val_precision: 0.2815 - val_recall: 0.6781 - val_auc: 0.7840\n",
      "Epoch 6/100\n",
      "38/38 [==============================] - 0s 3ms/step - loss: 5.1636e-05 - tp: 1690.0000 - fp: 5366.0000 - tn: 11065.0000 - fn: 1019.0000 - accuracy: 0.6664 - precision: 0.2395 - recall: 0.6238 - auc: 0.7063 - val_loss: 0.6100 - val_tp: 442.0000 - val_fp: 503.0000 - val_tn: 3581.0000 - val_fn: 260.0000 - val_accuracy: 0.8406 - val_precision: 0.4677 - val_recall: 0.6296 - val_auc: 0.8105\n",
      "Epoch 7/100\n",
      "38/38 [==============================] - 0s 3ms/step - loss: 5.0500e-05 - tp: 1660.0000 - fp: 4155.0000 - tn: 12276.0000 - fn: 1049.0000 - accuracy: 0.7281 - precision: 0.2855 - recall: 0.6128 - auc: 0.7303 - val_loss: 0.5896 - val_tp: 428.0000 - val_fp: 398.0000 - val_tn: 3686.0000 - val_fn: 274.0000 - val_accuracy: 0.8596 - val_precision: 0.5182 - val_recall: 0.6097 - val_auc: 0.8222\n",
      "Epoch 8/100\n",
      "38/38 [==============================] - 0s 4ms/step - loss: 4.9222e-05 - tp: 1630.0000 - fp: 3727.0000 - tn: 12704.0000 - fn: 1079.0000 - accuracy: 0.7489 - precision: 0.3043 - recall: 0.6017 - auc: 0.7461 - val_loss: 0.5737 - val_tp: 428.0000 - val_fp: 390.0000 - val_tn: 3694.0000 - val_fn: 274.0000 - val_accuracy: 0.8613 - val_precision: 0.5232 - val_recall: 0.6097 - val_auc: 0.8272\n",
      "Epoch 9/100\n",
      "38/38 [==============================] - 0s 4ms/step - loss: 4.8267e-05 - tp: 1657.0000 - fp: 3281.0000 - tn: 13150.0000 - fn: 1052.0000 - accuracy: 0.7736 - precision: 0.3356 - recall: 0.6117 - auc: 0.7642 - val_loss: 0.5574 - val_tp: 420.0000 - val_fp: 366.0000 - val_tn: 3718.0000 - val_fn: 282.0000 - val_accuracy: 0.8646 - val_precision: 0.5344 - val_recall: 0.5983 - val_auc: 0.8308\n",
      "Epoch 10/100\n",
      "38/38 [==============================] - 0s 4ms/step - loss: 4.7233e-05 - tp: 1650.0000 - fp: 2729.0000 - tn: 13702.0000 - fn: 1059.0000 - accuracy: 0.8021 - precision: 0.3768 - recall: 0.6091 - auc: 0.7806 - val_loss: 0.5421 - val_tp: 414.0000 - val_fp: 345.0000 - val_tn: 3739.0000 - val_fn: 288.0000 - val_accuracy: 0.8677 - val_precision: 0.5455 - val_recall: 0.5897 - val_auc: 0.8326\n",
      "Epoch 11/100\n",
      "38/38 [==============================] - 0s 4ms/step - loss: 4.6663e-05 - tp: 1634.0000 - fp: 2609.0000 - tn: 13822.0000 - fn: 1075.0000 - accuracy: 0.8075 - precision: 0.3851 - recall: 0.6032 - auc: 0.7822 - val_loss: 0.5295 - val_tp: 409.0000 - val_fp: 328.0000 - val_tn: 3756.0000 - val_fn: 293.0000 - val_accuracy: 0.8702 - val_precision: 0.5550 - val_recall: 0.5826 - val_auc: 0.8360\n",
      "Epoch 12/100\n",
      "38/38 [==============================] - 0s 4ms/step - loss: 4.5994e-05 - tp: 1626.0000 - fp: 2364.0000 - tn: 14067.0000 - fn: 1083.0000 - accuracy: 0.8199 - precision: 0.4075 - recall: 0.6002 - auc: 0.7907 - val_loss: 0.5204 - val_tp: 410.0000 - val_fp: 330.0000 - val_tn: 3754.0000 - val_fn: 292.0000 - val_accuracy: 0.8700 - val_precision: 0.5541 - val_recall: 0.5840 - val_auc: 0.8398\n",
      "Epoch 13/100\n",
      "38/38 [==============================] - 0s 3ms/step - loss: 4.5314e-05 - tp: 1607.0000 - fp: 2102.0000 - tn: 14329.0000 - fn: 1102.0000 - accuracy: 0.8326 - precision: 0.4333 - recall: 0.5932 - auc: 0.7956 - val_loss: 0.5056 - val_tp: 403.0000 - val_fp: 299.0000 - val_tn: 3785.0000 - val_fn: 299.0000 - val_accuracy: 0.8751 - val_precision: 0.5741 - val_recall: 0.5741 - val_auc: 0.8429\n",
      "Epoch 14/100\n",
      "38/38 [==============================] - 0s 4ms/step - loss: 4.5027e-05 - tp: 1590.0000 - fp: 1888.0000 - tn: 14543.0000 - fn: 1119.0000 - accuracy: 0.8429 - precision: 0.4572 - recall: 0.5869 - auc: 0.8003 - val_loss: 0.5011 - val_tp: 408.0000 - val_fp: 314.0000 - val_tn: 3770.0000 - val_fn: 294.0000 - val_accuracy: 0.8730 - val_precision: 0.5651 - val_recall: 0.5812 - val_auc: 0.8459\n",
      "Epoch 15/100\n",
      "38/38 [==============================] - 0s 4ms/step - loss: 4.4259e-05 - tp: 1627.0000 - fp: 1872.0000 - tn: 14559.0000 - fn: 1082.0000 - accuracy: 0.8457 - precision: 0.4650 - recall: 0.6006 - auc: 0.8098 - val_loss: 0.4898 - val_tp: 405.0000 - val_fp: 294.0000 - val_tn: 3790.0000 - val_fn: 297.0000 - val_accuracy: 0.8765 - val_precision: 0.5794 - val_recall: 0.5769 - val_auc: 0.8474\n",
      "Epoch 16/100\n",
      "38/38 [==============================] - 0s 4ms/step - loss: 4.4141e-05 - tp: 1602.0000 - fp: 1932.0000 - tn: 14499.0000 - fn: 1107.0000 - accuracy: 0.8412 - precision: 0.4533 - recall: 0.5914 - auc: 0.8068 - val_loss: 0.4868 - val_tp: 411.0000 - val_fp: 313.0000 - val_tn: 3771.0000 - val_fn: 291.0000 - val_accuracy: 0.8738 - val_precision: 0.5677 - val_recall: 0.5855 - val_auc: 0.8498\n",
      "Epoch 17/100\n",
      "38/38 [==============================] - 0s 3ms/step - loss: 4.3513e-05 - tp: 1608.0000 - fp: 1682.0000 - tn: 14749.0000 - fn: 1101.0000 - accuracy: 0.8546 - precision: 0.4888 - recall: 0.5936 - auc: 0.8181 - val_loss: 0.4770 - val_tp: 410.0000 - val_fp: 303.0000 - val_tn: 3781.0000 - val_fn: 292.0000 - val_accuracy: 0.8757 - val_precision: 0.5750 - val_recall: 0.5840 - val_auc: 0.8515\n",
      "Epoch 18/100\n",
      "38/38 [==============================] - 0s 4ms/step - loss: 4.2916e-05 - tp: 1659.0000 - fp: 1761.0000 - tn: 14670.0000 - fn: 1050.0000 - accuracy: 0.8531 - precision: 0.4851 - recall: 0.6124 - auc: 0.8214 - val_loss: 0.4721 - val_tp: 414.0000 - val_fp: 314.0000 - val_tn: 3770.0000 - val_fn: 288.0000 - val_accuracy: 0.8742 - val_precision: 0.5687 - val_recall: 0.5897 - val_auc: 0.8514\n",
      "Epoch 19/100\n",
      "38/38 [==============================] - 0s 3ms/step - loss: 4.2706e-05 - tp: 1590.0000 - fp: 1603.0000 - tn: 14828.0000 - fn: 1119.0000 - accuracy: 0.8578 - precision: 0.4980 - recall: 0.5869 - auc: 0.8207 - val_loss: 0.4682 - val_tp: 417.0000 - val_fp: 325.0000 - val_tn: 3759.0000 - val_fn: 285.0000 - val_accuracy: 0.8725 - val_precision: 0.5620 - val_recall: 0.5940 - val_auc: 0.8520\n",
      "Epoch 20/100\n",
      "38/38 [==============================] - 0s 3ms/step - loss: 4.2052e-05 - tp: 1653.0000 - fp: 1710.0000 - tn: 14721.0000 - fn: 1056.0000 - accuracy: 0.8555 - precision: 0.4915 - recall: 0.6102 - auc: 0.8297 - val_loss: 0.4603 - val_tp: 418.0000 - val_fp: 319.0000 - val_tn: 3765.0000 - val_fn: 284.0000 - val_accuracy: 0.8740 - val_precision: 0.5672 - val_recall: 0.5954 - val_auc: 0.8531\n",
      "Epoch 21/100\n",
      "38/38 [==============================] - 0s 4ms/step - loss: 4.1625e-05 - tp: 1669.0000 - fp: 1619.0000 - tn: 14812.0000 - fn: 1040.0000 - accuracy: 0.8611 - precision: 0.5076 - recall: 0.6161 - auc: 0.8318 - val_loss: 0.4571 - val_tp: 422.0000 - val_fp: 321.0000 - val_tn: 3763.0000 - val_fn: 280.0000 - val_accuracy: 0.8744 - val_precision: 0.5680 - val_recall: 0.6011 - val_auc: 0.8539\n",
      "Epoch 22/100\n",
      "38/38 [==============================] - 0s 4ms/step - loss: 4.1570e-05 - tp: 1641.0000 - fp: 1515.0000 - tn: 14916.0000 - fn: 1068.0000 - accuracy: 0.8650 - precision: 0.5200 - recall: 0.6058 - auc: 0.8329 - val_loss: 0.4539 - val_tp: 421.0000 - val_fp: 316.0000 - val_tn: 3768.0000 - val_fn: 281.0000 - val_accuracy: 0.8753 - val_precision: 0.5712 - val_recall: 0.5997 - val_auc: 0.8559\n",
      "Epoch 23/100\n",
      "38/38 [==============================] - 0s 3ms/step - loss: 4.1190e-05 - tp: 1683.0000 - fp: 1614.0000 - tn: 14817.0000 - fn: 1026.0000 - accuracy: 0.8621 - precision: 0.5105 - recall: 0.6213 - auc: 0.8385 - val_loss: 0.4526 - val_tp: 423.0000 - val_fp: 321.0000 - val_tn: 3763.0000 - val_fn: 279.0000 - val_accuracy: 0.8746 - val_precision: 0.5685 - val_recall: 0.6026 - val_auc: 0.8569\n",
      "Epoch 24/100\n",
      "38/38 [==============================] - 0s 3ms/step - loss: 4.1115e-05 - tp: 1673.0000 - fp: 1547.0000 - tn: 14884.0000 - fn: 1036.0000 - accuracy: 0.8650 - precision: 0.5196 - recall: 0.6176 - auc: 0.8372 - val_loss: 0.4505 - val_tp: 425.0000 - val_fp: 317.0000 - val_tn: 3767.0000 - val_fn: 277.0000 - val_accuracy: 0.8759 - val_precision: 0.5728 - val_recall: 0.6054 - val_auc: 0.8579\n",
      "Epoch 25/100\n",
      "38/38 [==============================] - 0s 4ms/step - loss: 4.1056e-05 - tp: 1663.0000 - fp: 1567.0000 - tn: 14864.0000 - fn: 1046.0000 - accuracy: 0.8635 - precision: 0.5149 - recall: 0.6139 - auc: 0.8349 - val_loss: 0.4440 - val_tp: 422.0000 - val_fp: 304.0000 - val_tn: 3780.0000 - val_fn: 280.0000 - val_accuracy: 0.8780 - val_precision: 0.5813 - val_recall: 0.6011 - val_auc: 0.8601\n",
      "Epoch 26/100\n",
      "38/38 [==============================] - 0s 4ms/step - loss: 4.0858e-05 - tp: 1657.0000 - fp: 1409.0000 - tn: 15022.0000 - fn: 1052.0000 - accuracy: 0.8714 - precision: 0.5404 - recall: 0.6117 - auc: 0.8390 - val_loss: 0.4462 - val_tp: 426.0000 - val_fp: 311.0000 - val_tn: 3773.0000 - val_fn: 276.0000 - val_accuracy: 0.8774 - val_precision: 0.5780 - val_recall: 0.6068 - val_auc: 0.8618\n",
      "Epoch 27/100\n",
      "38/38 [==============================] - 0s 4ms/step - loss: 4.0346e-05 - tp: 1656.0000 - fp: 1418.0000 - tn: 15013.0000 - fn: 1053.0000 - accuracy: 0.8709 - precision: 0.5387 - recall: 0.6113 - auc: 0.8456 - val_loss: 0.4425 - val_tp: 426.0000 - val_fp: 304.0000 - val_tn: 3780.0000 - val_fn: 276.0000 - val_accuracy: 0.8788 - val_precision: 0.5836 - val_recall: 0.6068 - val_auc: 0.8630\n",
      "Epoch 28/100\n",
      "38/38 [==============================] - 0s 3ms/step - loss: 4.0073e-05 - tp: 1685.0000 - fp: 1410.0000 - tn: 15021.0000 - fn: 1024.0000 - accuracy: 0.8728 - precision: 0.5444 - recall: 0.6220 - auc: 0.8498 - val_loss: 0.4425 - val_tp: 434.0000 - val_fp: 310.0000 - val_tn: 3774.0000 - val_fn: 268.0000 - val_accuracy: 0.8792 - val_precision: 0.5833 - val_recall: 0.6182 - val_auc: 0.8638\n",
      "Epoch 29/100\n",
      "38/38 [==============================] - 0s 4ms/step - loss: 4.0042e-05 - tp: 1698.0000 - fp: 1416.0000 - tn: 15015.0000 - fn: 1011.0000 - accuracy: 0.8732 - precision: 0.5453 - recall: 0.6268 - auc: 0.8454 - val_loss: 0.4375 - val_tp: 428.0000 - val_fp: 295.0000 - val_tn: 3789.0000 - val_fn: 274.0000 - val_accuracy: 0.8811 - val_precision: 0.5920 - val_recall: 0.6097 - val_auc: 0.8667\n",
      "Epoch 30/100\n",
      "38/38 [==============================] - 0s 3ms/step - loss: 3.9931e-05 - tp: 1672.0000 - fp: 1371.0000 - tn: 15060.0000 - fn: 1037.0000 - accuracy: 0.8742 - precision: 0.5495 - recall: 0.6172 - auc: 0.8472 - val_loss: 0.4401 - val_tp: 437.0000 - val_fp: 296.0000 - val_tn: 3788.0000 - val_fn: 265.0000 - val_accuracy: 0.8828 - val_precision: 0.5962 - val_recall: 0.6225 - val_auc: 0.8683\n",
      "Epoch 31/100\n",
      "38/38 [==============================] - 0s 3ms/step - loss: 3.9529e-05 - tp: 1688.0000 - fp: 1334.0000 - tn: 15097.0000 - fn: 1021.0000 - accuracy: 0.8770 - precision: 0.5586 - recall: 0.6231 - auc: 0.8527 - val_loss: 0.4355 - val_tp: 435.0000 - val_fp: 291.0000 - val_tn: 3793.0000 - val_fn: 267.0000 - val_accuracy: 0.8834 - val_precision: 0.5992 - val_recall: 0.6197 - val_auc: 0.8677\n",
      "Epoch 32/100\n",
      "38/38 [==============================] - 0s 4ms/step - loss: 3.9489e-05 - tp: 1723.0000 - fp: 1340.0000 - tn: 15091.0000 - fn: 986.0000 - accuracy: 0.8785 - precision: 0.5625 - recall: 0.6360 - auc: 0.8538 - val_loss: 0.4371 - val_tp: 441.0000 - val_fp: 300.0000 - val_tn: 3784.0000 - val_fn: 261.0000 - val_accuracy: 0.8828 - val_precision: 0.5951 - val_recall: 0.6282 - val_auc: 0.8686\n",
      "Epoch 33/100\n",
      "38/38 [==============================] - 0s 3ms/step - loss: 3.9433e-05 - tp: 1712.0000 - fp: 1335.0000 - tn: 15096.0000 - fn: 997.0000 - accuracy: 0.8782 - precision: 0.5619 - recall: 0.6320 - auc: 0.8538 - val_loss: 0.4278 - val_tp: 434.0000 - val_fp: 272.0000 - val_tn: 3812.0000 - val_fn: 268.0000 - val_accuracy: 0.8872 - val_precision: 0.6147 - val_recall: 0.6182 - val_auc: 0.8716\n",
      "Epoch 34/100\n",
      "38/38 [==============================] - 0s 4ms/step - loss: 3.9323e-05 - tp: 1698.0000 - fp: 1277.0000 - tn: 15154.0000 - fn: 1011.0000 - accuracy: 0.8805 - precision: 0.5708 - recall: 0.6268 - auc: 0.8553 - val_loss: 0.4309 - val_tp: 441.0000 - val_fp: 283.0000 - val_tn: 3801.0000 - val_fn: 261.0000 - val_accuracy: 0.8863 - val_precision: 0.6091 - val_recall: 0.6282 - val_auc: 0.8726\n",
      "Epoch 35/100\n",
      "38/38 [==============================] - 0s 4ms/step - loss: 3.8959e-05 - tp: 1695.0000 - fp: 1304.0000 - tn: 15127.0000 - fn: 1014.0000 - accuracy: 0.8789 - precision: 0.5652 - recall: 0.6257 - auc: 0.8568 - val_loss: 0.4275 - val_tp: 440.0000 - val_fp: 269.0000 - val_tn: 3815.0000 - val_fn: 262.0000 - val_accuracy: 0.8891 - val_precision: 0.6206 - val_recall: 0.6268 - val_auc: 0.8754\n",
      "Epoch 36/100\n",
      "38/38 [==============================] - 0s 3ms/step - loss: 3.8871e-05 - tp: 1692.0000 - fp: 1271.0000 - tn: 15160.0000 - fn: 1017.0000 - accuracy: 0.8805 - precision: 0.5710 - recall: 0.6246 - auc: 0.8573 - val_loss: 0.4276 - val_tp: 442.0000 - val_fp: 272.0000 - val_tn: 3812.0000 - val_fn: 260.0000 - val_accuracy: 0.8888 - val_precision: 0.6190 - val_recall: 0.6296 - val_auc: 0.8757\n",
      "Epoch 37/100\n",
      "38/38 [==============================] - 0s 4ms/step - loss: 3.8681e-05 - tp: 1727.0000 - fp: 1244.0000 - tn: 15187.0000 - fn: 982.0000 - accuracy: 0.8837 - precision: 0.5813 - recall: 0.6375 - auc: 0.8621 - val_loss: 0.4258 - val_tp: 443.0000 - val_fp: 269.0000 - val_tn: 3815.0000 - val_fn: 259.0000 - val_accuracy: 0.8897 - val_precision: 0.6222 - val_recall: 0.6311 - val_auc: 0.8776\n",
      "Epoch 38/100\n",
      "38/38 [==============================] - 0s 3ms/step - loss: 3.8578e-05 - tp: 1711.0000 - fp: 1225.0000 - tn: 15206.0000 - fn: 998.0000 - accuracy: 0.8839 - precision: 0.5828 - recall: 0.6316 - auc: 0.8565 - val_loss: 0.4229 - val_tp: 443.0000 - val_fp: 262.0000 - val_tn: 3822.0000 - val_fn: 259.0000 - val_accuracy: 0.8911 - val_precision: 0.6284 - val_recall: 0.6311 - val_auc: 0.8797\n",
      "Epoch 39/100\n",
      "38/38 [==============================] - 0s 3ms/step - loss: 3.8143e-05 - tp: 1767.0000 - fp: 1226.0000 - tn: 15205.0000 - fn: 942.0000 - accuracy: 0.8867 - precision: 0.5904 - recall: 0.6523 - auc: 0.8637 - val_loss: 0.4212 - val_tp: 444.0000 - val_fp: 256.0000 - val_tn: 3828.0000 - val_fn: 258.0000 - val_accuracy: 0.8926 - val_precision: 0.6343 - val_recall: 0.6325 - val_auc: 0.8810\n",
      "Epoch 40/100\n",
      "38/38 [==============================] - 0s 4ms/step - loss: 3.8386e-05 - tp: 1720.0000 - fp: 1182.0000 - tn: 15249.0000 - fn: 989.0000 - accuracy: 0.8866 - precision: 0.5927 - recall: 0.6349 - auc: 0.8645 - val_loss: 0.4192 - val_tp: 446.0000 - val_fp: 255.0000 - val_tn: 3829.0000 - val_fn: 256.0000 - val_accuracy: 0.8932 - val_precision: 0.6362 - val_recall: 0.6353 - val_auc: 0.8834\n",
      "Epoch 41/100\n",
      "38/38 [==============================] - 0s 3ms/step - loss: 3.7995e-05 - tp: 1727.0000 - fp: 1171.0000 - tn: 15260.0000 - fn: 982.0000 - accuracy: 0.8875 - precision: 0.5959 - recall: 0.6375 - auc: 0.8667 - val_loss: 0.4158 - val_tp: 447.0000 - val_fp: 251.0000 - val_tn: 3833.0000 - val_fn: 255.0000 - val_accuracy: 0.8943 - val_precision: 0.6404 - val_recall: 0.6368 - val_auc: 0.8837\n",
      "Epoch 42/100\n",
      "38/38 [==============================] - 0s 4ms/step - loss: 3.7823e-05 - tp: 1744.0000 - fp: 1155.0000 - tn: 15276.0000 - fn: 965.0000 - accuracy: 0.8892 - precision: 0.6016 - recall: 0.6438 - auc: 0.8693 - val_loss: 0.4147 - val_tp: 451.0000 - val_fp: 252.0000 - val_tn: 3832.0000 - val_fn: 251.0000 - val_accuracy: 0.8949 - val_precision: 0.6415 - val_recall: 0.6425 - val_auc: 0.8861\n",
      "Epoch 43/100\n",
      "38/38 [==============================] - 0s 4ms/step - loss: 3.7742e-05 - tp: 1727.0000 - fp: 1107.0000 - tn: 15324.0000 - fn: 982.0000 - accuracy: 0.8909 - precision: 0.6094 - recall: 0.6375 - auc: 0.8690 - val_loss: 0.4128 - val_tp: 451.0000 - val_fp: 247.0000 - val_tn: 3837.0000 - val_fn: 251.0000 - val_accuracy: 0.8959 - val_precision: 0.6461 - val_recall: 0.6425 - val_auc: 0.8855\n",
      "Epoch 44/100\n",
      "38/38 [==============================] - 0s 3ms/step - loss: 3.7573e-05 - tp: 1744.0000 - fp: 1150.0000 - tn: 15281.0000 - fn: 965.0000 - accuracy: 0.8895 - precision: 0.6026 - recall: 0.6438 - auc: 0.8686 - val_loss: 0.4098 - val_tp: 449.0000 - val_fp: 242.0000 - val_tn: 3842.0000 - val_fn: 253.0000 - val_accuracy: 0.8966 - val_precision: 0.6498 - val_recall: 0.6396 - val_auc: 0.8873\n",
      "Epoch 45/100\n",
      "38/38 [==============================] - 0s 3ms/step - loss: 3.7432e-05 - tp: 1743.0000 - fp: 1045.0000 - tn: 15386.0000 - fn: 966.0000 - accuracy: 0.8949 - precision: 0.6252 - recall: 0.6434 - auc: 0.8724 - val_loss: 0.4104 - val_tp: 452.0000 - val_fp: 243.0000 - val_tn: 3841.0000 - val_fn: 250.0000 - val_accuracy: 0.8970 - val_precision: 0.6504 - val_recall: 0.6439 - val_auc: 0.8895\n",
      "Epoch 46/100\n",
      "38/38 [==============================] - 0s 4ms/step - loss: 3.7075e-05 - tp: 1765.0000 - fp: 1071.0000 - tn: 15360.0000 - fn: 944.0000 - accuracy: 0.8947 - precision: 0.6224 - recall: 0.6515 - auc: 0.8742 - val_loss: 0.4078 - val_tp: 452.0000 - val_fp: 238.0000 - val_tn: 3846.0000 - val_fn: 250.0000 - val_accuracy: 0.8980 - val_precision: 0.6551 - val_recall: 0.6439 - val_auc: 0.8912\n",
      "Epoch 47/100\n",
      "38/38 [==============================] - 0s 4ms/step - loss: 3.6958e-05 - tp: 1760.0000 - fp: 1046.0000 - tn: 15385.0000 - fn: 949.0000 - accuracy: 0.8958 - precision: 0.6272 - recall: 0.6497 - auc: 0.8757 - val_loss: 0.4069 - val_tp: 452.0000 - val_fp: 241.0000 - val_tn: 3843.0000 - val_fn: 250.0000 - val_accuracy: 0.8974 - val_precision: 0.6522 - val_recall: 0.6439 - val_auc: 0.8925\n",
      "Epoch 48/100\n",
      "38/38 [==============================] - 0s 3ms/step - loss: 3.7184e-05 - tp: 1760.0000 - fp: 1061.0000 - tn: 15370.0000 - fn: 949.0000 - accuracy: 0.8950 - precision: 0.6239 - recall: 0.6497 - auc: 0.8723 - val_loss: 0.4063 - val_tp: 455.0000 - val_fp: 242.0000 - val_tn: 3842.0000 - val_fn: 247.0000 - val_accuracy: 0.8978 - val_precision: 0.6528 - val_recall: 0.6481 - val_auc: 0.8924\n",
      "Epoch 49/100\n",
      "38/38 [==============================] - 0s 4ms/step - loss: 3.6958e-05 - tp: 1737.0000 - fp: 1030.0000 - tn: 15401.0000 - fn: 972.0000 - accuracy: 0.8954 - precision: 0.6278 - recall: 0.6412 - auc: 0.8759 - val_loss: 0.4040 - val_tp: 453.0000 - val_fp: 239.0000 - val_tn: 3845.0000 - val_fn: 249.0000 - val_accuracy: 0.8980 - val_precision: 0.6546 - val_recall: 0.6453 - val_auc: 0.8951\n",
      "Epoch 50/100\n",
      "38/38 [==============================] - 0s 3ms/step - loss: 3.6709e-05 - tp: 1787.0000 - fp: 1024.0000 - tn: 15407.0000 - fn: 922.0000 - accuracy: 0.8983 - precision: 0.6357 - recall: 0.6597 - auc: 0.8781 - val_loss: 0.3966 - val_tp: 451.0000 - val_fp: 222.0000 - val_tn: 3862.0000 - val_fn: 251.0000 - val_accuracy: 0.9012 - val_precision: 0.6701 - val_recall: 0.6425 - val_auc: 0.8971\n",
      "Epoch 51/100\n",
      "38/38 [==============================] - 0s 3ms/step - loss: 3.6230e-05 - tp: 1778.0000 - fp: 1000.0000 - tn: 15431.0000 - fn: 931.0000 - accuracy: 0.8991 - precision: 0.6400 - recall: 0.6563 - auc: 0.8823 - val_loss: 0.3961 - val_tp: 453.0000 - val_fp: 226.0000 - val_tn: 3858.0000 - val_fn: 249.0000 - val_accuracy: 0.9008 - val_precision: 0.6672 - val_recall: 0.6453 - val_auc: 0.8959\n",
      "Epoch 52/100\n",
      "38/38 [==============================] - 0s 4ms/step - loss: 3.6434e-05 - tp: 1777.0000 - fp: 1025.0000 - tn: 15406.0000 - fn: 932.0000 - accuracy: 0.8978 - precision: 0.6342 - recall: 0.6560 - auc: 0.8779 - val_loss: 0.3955 - val_tp: 455.0000 - val_fp: 231.0000 - val_tn: 3853.0000 - val_fn: 247.0000 - val_accuracy: 0.9001 - val_precision: 0.6633 - val_recall: 0.6481 - val_auc: 0.8964\n",
      "Epoch 53/100\n",
      "38/38 [==============================] - 0s 4ms/step - loss: 3.6330e-05 - tp: 1796.0000 - fp: 1021.0000 - tn: 15410.0000 - fn: 913.0000 - accuracy: 0.8990 - precision: 0.6376 - recall: 0.6630 - auc: 0.8799 - val_loss: 0.3919 - val_tp: 454.0000 - val_fp: 222.0000 - val_tn: 3862.0000 - val_fn: 248.0000 - val_accuracy: 0.9018 - val_precision: 0.6716 - val_recall: 0.6467 - val_auc: 0.8990\n",
      "Epoch 54/100\n",
      "38/38 [==============================] - 0s 4ms/step - loss: 3.6321e-05 - tp: 1764.0000 - fp: 998.0000 - tn: 15433.0000 - fn: 945.0000 - accuracy: 0.8985 - precision: 0.6387 - recall: 0.6512 - auc: 0.8801 - val_loss: 0.3927 - val_tp: 455.0000 - val_fp: 226.0000 - val_tn: 3858.0000 - val_fn: 247.0000 - val_accuracy: 0.9012 - val_precision: 0.6681 - val_recall: 0.6481 - val_auc: 0.9014\n",
      "Epoch 55/100\n",
      "38/38 [==============================] - 0s 4ms/step - loss: 3.5885e-05 - tp: 1810.0000 - fp: 1016.0000 - tn: 15415.0000 - fn: 899.0000 - accuracy: 0.8999 - precision: 0.6405 - recall: 0.6681 - auc: 0.8828 - val_loss: 0.3969 - val_tp: 461.0000 - val_fp: 234.0000 - val_tn: 3850.0000 - val_fn: 241.0000 - val_accuracy: 0.9008 - val_precision: 0.6633 - val_recall: 0.6567 - val_auc: 0.9022\n",
      "Epoch 56/100\n",
      "38/38 [==============================] - 0s 4ms/step - loss: 3.5532e-05 - tp: 1814.0000 - fp: 976.0000 - tn: 15455.0000 - fn: 895.0000 - accuracy: 0.9022 - precision: 0.6502 - recall: 0.6696 - auc: 0.8872 - val_loss: 0.3903 - val_tp: 459.0000 - val_fp: 228.0000 - val_tn: 3856.0000 - val_fn: 243.0000 - val_accuracy: 0.9016 - val_precision: 0.6681 - val_recall: 0.6538 - val_auc: 0.9044\n",
      "Epoch 57/100\n",
      "38/38 [==============================] - 0s 4ms/step - loss: 3.5793e-05 - tp: 1786.0000 - fp: 952.0000 - tn: 15479.0000 - fn: 923.0000 - accuracy: 0.9020 - precision: 0.6523 - recall: 0.6593 - auc: 0.8850 - val_loss: 0.3925 - val_tp: 461.0000 - val_fp: 236.0000 - val_tn: 3848.0000 - val_fn: 241.0000 - val_accuracy: 0.9003 - val_precision: 0.6614 - val_recall: 0.6567 - val_auc: 0.9020\n",
      "Epoch 58/100\n",
      "38/38 [==============================] - 0s 4ms/step - loss: 3.5892e-05 - tp: 1803.0000 - fp: 943.0000 - tn: 15488.0000 - fn: 906.0000 - accuracy: 0.9034 - precision: 0.6566 - recall: 0.6656 - auc: 0.8827 - val_loss: 0.3828 - val_tp: 458.0000 - val_fp: 216.0000 - val_tn: 3868.0000 - val_fn: 244.0000 - val_accuracy: 0.9039 - val_precision: 0.6795 - val_recall: 0.6524 - val_auc: 0.9061\n",
      "Epoch 59/100\n",
      "38/38 [==============================] - 0s 4ms/step - loss: 3.5144e-05 - tp: 1803.0000 - fp: 916.0000 - tn: 15515.0000 - fn: 906.0000 - accuracy: 0.9048 - precision: 0.6631 - recall: 0.6656 - auc: 0.8876 - val_loss: 0.3923 - val_tp: 468.0000 - val_fp: 232.0000 - val_tn: 3852.0000 - val_fn: 234.0000 - val_accuracy: 0.9026 - val_precision: 0.6686 - val_recall: 0.6667 - val_auc: 0.9064\n",
      "Epoch 60/100\n",
      "38/38 [==============================] - 0s 4ms/step - loss: 3.5123e-05 - tp: 1834.0000 - fp: 952.0000 - tn: 15479.0000 - fn: 875.0000 - accuracy: 0.9045 - precision: 0.6583 - recall: 0.6770 - auc: 0.8879 - val_loss: 0.3801 - val_tp: 459.0000 - val_fp: 208.0000 - val_tn: 3876.0000 - val_fn: 243.0000 - val_accuracy: 0.9058 - val_precision: 0.6882 - val_recall: 0.6538 - val_auc: 0.9105\n",
      "Epoch 61/100\n",
      "38/38 [==============================] - 0s 4ms/step - loss: 3.4860e-05 - tp: 1808.0000 - fp: 852.0000 - tn: 15579.0000 - fn: 901.0000 - accuracy: 0.9084 - precision: 0.6797 - recall: 0.6674 - auc: 0.8895 - val_loss: 0.3838 - val_tp: 464.0000 - val_fp: 223.0000 - val_tn: 3861.0000 - val_fn: 238.0000 - val_accuracy: 0.9037 - val_precision: 0.6754 - val_recall: 0.6610 - val_auc: 0.9096\n",
      "Epoch 62/100\n",
      "38/38 [==============================] - 0s 4ms/step - loss: 3.4887e-05 - tp: 1849.0000 - fp: 947.0000 - tn: 15484.0000 - fn: 860.0000 - accuracy: 0.9056 - precision: 0.6613 - recall: 0.6825 - auc: 0.8907 - val_loss: 0.3837 - val_tp: 467.0000 - val_fp: 227.0000 - val_tn: 3857.0000 - val_fn: 235.0000 - val_accuracy: 0.9035 - val_precision: 0.6729 - val_recall: 0.6652 - val_auc: 0.9109\n",
      "Epoch 63/100\n",
      "38/38 [==============================] - 0s 3ms/step - loss: 3.5178e-05 - tp: 1794.0000 - fp: 858.0000 - tn: 15573.0000 - fn: 915.0000 - accuracy: 0.9074 - precision: 0.6765 - recall: 0.6622 - auc: 0.8929 - val_loss: 0.3812 - val_tp: 467.0000 - val_fp: 227.0000 - val_tn: 3857.0000 - val_fn: 235.0000 - val_accuracy: 0.9035 - val_precision: 0.6729 - val_recall: 0.6652 - val_auc: 0.9114\n",
      "Epoch 64/100\n",
      "38/38 [==============================] - 0s 4ms/step - loss: 3.4636e-05 - tp: 1833.0000 - fp: 924.0000 - tn: 15507.0000 - fn: 876.0000 - accuracy: 0.9060 - precision: 0.6649 - recall: 0.6766 - auc: 0.8905 - val_loss: 0.3715 - val_tp: 461.0000 - val_fp: 199.0000 - val_tn: 3885.0000 - val_fn: 241.0000 - val_accuracy: 0.9081 - val_precision: 0.6985 - val_recall: 0.6567 - val_auc: 0.9149\n",
      "Epoch 65/100\n",
      "38/38 [==============================] - 0s 3ms/step - loss: 3.4632e-05 - tp: 1815.0000 - fp: 860.0000 - tn: 15571.0000 - fn: 894.0000 - accuracy: 0.9084 - precision: 0.6785 - recall: 0.6700 - auc: 0.8940 - val_loss: 0.3754 - val_tp: 467.0000 - val_fp: 212.0000 - val_tn: 3872.0000 - val_fn: 235.0000 - val_accuracy: 0.9066 - val_precision: 0.6878 - val_recall: 0.6652 - val_auc: 0.9145\n",
      "Epoch 66/100\n",
      "38/38 [==============================] - 0s 4ms/step - loss: 3.4333e-05 - tp: 1824.0000 - fp: 804.0000 - tn: 15627.0000 - fn: 885.0000 - accuracy: 0.9118 - precision: 0.6941 - recall: 0.6733 - auc: 0.8955 - val_loss: 0.3766 - val_tp: 469.0000 - val_fp: 226.0000 - val_tn: 3858.0000 - val_fn: 233.0000 - val_accuracy: 0.9041 - val_precision: 0.6748 - val_recall: 0.6681 - val_auc: 0.9134\n",
      "Epoch 67/100\n",
      "38/38 [==============================] - 0s 4ms/step - loss: 3.4235e-05 - tp: 1853.0000 - fp: 863.0000 - tn: 15568.0000 - fn: 856.0000 - accuracy: 0.9102 - precision: 0.6823 - recall: 0.6840 - auc: 0.8963 - val_loss: 0.3706 - val_tp: 469.0000 - val_fp: 215.0000 - val_tn: 3869.0000 - val_fn: 233.0000 - val_accuracy: 0.9064 - val_precision: 0.6857 - val_recall: 0.6681 - val_auc: 0.9145\n",
      "Epoch 68/100\n",
      "38/38 [==============================] - 0s 4ms/step - loss: 3.4054e-05 - tp: 1832.0000 - fp: 847.0000 - tn: 15584.0000 - fn: 877.0000 - accuracy: 0.9099 - precision: 0.6838 - recall: 0.6763 - auc: 0.8957 - val_loss: 0.3784 - val_tp: 475.0000 - val_fp: 230.0000 - val_tn: 3854.0000 - val_fn: 227.0000 - val_accuracy: 0.9045 - val_precision: 0.6738 - val_recall: 0.6766 - val_auc: 0.9136\n",
      "Epoch 69/100\n",
      "38/38 [==============================] - 0s 4ms/step - loss: 3.4028e-05 - tp: 1840.0000 - fp: 877.0000 - tn: 15554.0000 - fn: 869.0000 - accuracy: 0.9088 - precision: 0.6772 - recall: 0.6792 - auc: 0.8965 - val_loss: 0.3659 - val_tp: 470.0000 - val_fp: 194.0000 - val_tn: 3890.0000 - val_fn: 232.0000 - val_accuracy: 0.9110 - val_precision: 0.7078 - val_recall: 0.6695 - val_auc: 0.9191\n",
      "Epoch 70/100\n",
      "38/38 [==============================] - 0s 4ms/step - loss: 3.4163e-05 - tp: 1826.0000 - fp: 804.0000 - tn: 15627.0000 - fn: 883.0000 - accuracy: 0.9119 - precision: 0.6943 - recall: 0.6740 - auc: 0.8971 - val_loss: 0.3677 - val_tp: 471.0000 - val_fp: 208.0000 - val_tn: 3876.0000 - val_fn: 231.0000 - val_accuracy: 0.9083 - val_precision: 0.6937 - val_recall: 0.6709 - val_auc: 0.9172\n",
      "Epoch 71/100\n",
      "38/38 [==============================] - 0s 3ms/step - loss: 3.4335e-05 - tp: 1848.0000 - fp: 829.0000 - tn: 15602.0000 - fn: 861.0000 - accuracy: 0.9117 - precision: 0.6903 - recall: 0.6822 - auc: 0.8941 - val_loss: 0.3674 - val_tp: 471.0000 - val_fp: 199.0000 - val_tn: 3885.0000 - val_fn: 231.0000 - val_accuracy: 0.9102 - val_precision: 0.7030 - val_recall: 0.6709 - val_auc: 0.9199\n",
      "Epoch 72/100\n",
      "38/38 [==============================] - 0s 3ms/step - loss: 3.3698e-05 - tp: 1840.0000 - fp: 825.0000 - tn: 15606.0000 - fn: 869.0000 - accuracy: 0.9115 - precision: 0.6904 - recall: 0.6792 - auc: 0.9025 - val_loss: 0.3648 - val_tp: 472.0000 - val_fp: 197.0000 - val_tn: 3887.0000 - val_fn: 230.0000 - val_accuracy: 0.9108 - val_precision: 0.7055 - val_recall: 0.6724 - val_auc: 0.9211\n",
      "Epoch 73/100\n",
      "38/38 [==============================] - 0s 3ms/step - loss: 3.3734e-05 - tp: 1888.0000 - fp: 818.0000 - tn: 15613.0000 - fn: 821.0000 - accuracy: 0.9144 - precision: 0.6977 - recall: 0.6969 - auc: 0.9025 - val_loss: 0.3572 - val_tp: 470.0000 - val_fp: 188.0000 - val_tn: 3896.0000 - val_fn: 232.0000 - val_accuracy: 0.9122 - val_precision: 0.7143 - val_recall: 0.6695 - val_auc: 0.9241\n",
      "Epoch 74/100\n",
      "38/38 [==============================] - 0s 3ms/step - loss: 3.3731e-05 - tp: 1844.0000 - fp: 833.0000 - tn: 15598.0000 - fn: 865.0000 - accuracy: 0.9113 - precision: 0.6888 - recall: 0.6807 - auc: 0.8995 - val_loss: 0.3588 - val_tp: 469.0000 - val_fp: 186.0000 - val_tn: 3898.0000 - val_fn: 233.0000 - val_accuracy: 0.9125 - val_precision: 0.7160 - val_recall: 0.6681 - val_auc: 0.9228\n",
      "Epoch 75/100\n",
      "38/38 [==============================] - 0s 4ms/step - loss: 3.2966e-05 - tp: 1882.0000 - fp: 743.0000 - tn: 15688.0000 - fn: 827.0000 - accuracy: 0.9180 - precision: 0.7170 - recall: 0.6947 - auc: 0.9057 - val_loss: 0.3588 - val_tp: 474.0000 - val_fp: 193.0000 - val_tn: 3891.0000 - val_fn: 228.0000 - val_accuracy: 0.9120 - val_precision: 0.7106 - val_recall: 0.6752 - val_auc: 0.9222\n",
      "Epoch 76/100\n",
      "38/38 [==============================] - 0s 4ms/step - loss: 3.3339e-05 - tp: 1878.0000 - fp: 787.0000 - tn: 15644.0000 - fn: 831.0000 - accuracy: 0.9155 - precision: 0.7047 - recall: 0.6932 - auc: 0.9014 - val_loss: 0.3565 - val_tp: 471.0000 - val_fp: 185.0000 - val_tn: 3899.0000 - val_fn: 231.0000 - val_accuracy: 0.9131 - val_precision: 0.7180 - val_recall: 0.6709 - val_auc: 0.9249\n",
      "Epoch 77/100\n",
      "38/38 [==============================] - 0s 3ms/step - loss: 3.2983e-05 - tp: 1846.0000 - fp: 729.0000 - tn: 15702.0000 - fn: 863.0000 - accuracy: 0.9168 - precision: 0.7169 - recall: 0.6814 - auc: 0.9068 - val_loss: 0.3633 - val_tp: 488.0000 - val_fp: 205.0000 - val_tn: 3879.0000 - val_fn: 214.0000 - val_accuracy: 0.9125 - val_precision: 0.7042 - val_recall: 0.6952 - val_auc: 0.9226\n",
      "Epoch 78/100\n",
      "38/38 [==============================] - 0s 4ms/step - loss: 3.2828e-05 - tp: 1885.0000 - fp: 777.0000 - tn: 15654.0000 - fn: 824.0000 - accuracy: 0.9164 - precision: 0.7081 - recall: 0.6958 - auc: 0.9071 - val_loss: 0.3493 - val_tp: 474.0000 - val_fp: 178.0000 - val_tn: 3906.0000 - val_fn: 228.0000 - val_accuracy: 0.9152 - val_precision: 0.7270 - val_recall: 0.6752 - val_auc: 0.9258\n",
      "Epoch 79/100\n",
      "38/38 [==============================] - 0s 4ms/step - loss: 3.2640e-05 - tp: 1899.0000 - fp: 778.0000 - tn: 15653.0000 - fn: 810.0000 - accuracy: 0.9170 - precision: 0.7094 - recall: 0.7010 - auc: 0.9063 - val_loss: 0.3477 - val_tp: 478.0000 - val_fp: 171.0000 - val_tn: 3913.0000 - val_fn: 224.0000 - val_accuracy: 0.9175 - val_precision: 0.7365 - val_recall: 0.6809 - val_auc: 0.9280\n",
      "Epoch 80/100\n",
      "38/38 [==============================] - 0s 4ms/step - loss: 3.2834e-05 - tp: 1877.0000 - fp: 750.0000 - tn: 15681.0000 - fn: 832.0000 - accuracy: 0.9173 - precision: 0.7145 - recall: 0.6929 - auc: 0.9073 - val_loss: 0.3416 - val_tp: 474.0000 - val_fp: 168.0000 - val_tn: 3916.0000 - val_fn: 228.0000 - val_accuracy: 0.9173 - val_precision: 0.7383 - val_recall: 0.6752 - val_auc: 0.9290\n",
      "Epoch 81/100\n",
      "38/38 [==============================] - 0s 4ms/step - loss: 3.2584e-05 - tp: 1882.0000 - fp: 724.0000 - tn: 15707.0000 - fn: 827.0000 - accuracy: 0.9190 - precision: 0.7222 - recall: 0.6947 - auc: 0.9084 - val_loss: 0.3430 - val_tp: 479.0000 - val_fp: 167.0000 - val_tn: 3917.0000 - val_fn: 223.0000 - val_accuracy: 0.9185 - val_precision: 0.7415 - val_recall: 0.6823 - val_auc: 0.9294\n",
      "Epoch 82/100\n",
      "38/38 [==============================] - 0s 4ms/step - loss: 3.2650e-05 - tp: 1896.0000 - fp: 755.0000 - tn: 15676.0000 - fn: 813.0000 - accuracy: 0.9181 - precision: 0.7152 - recall: 0.6999 - auc: 0.9086 - val_loss: 0.3384 - val_tp: 476.0000 - val_fp: 155.0000 - val_tn: 3929.0000 - val_fn: 226.0000 - val_accuracy: 0.9204 - val_precision: 0.7544 - val_recall: 0.6781 - val_auc: 0.9289\n",
      "Epoch 83/100\n",
      "38/38 [==============================] - 0s 3ms/step - loss: 3.2190e-05 - tp: 1883.0000 - fp: 681.0000 - tn: 15750.0000 - fn: 826.0000 - accuracy: 0.9213 - precision: 0.7344 - recall: 0.6951 - auc: 0.9105 - val_loss: 0.3482 - val_tp: 491.0000 - val_fp: 166.0000 - val_tn: 3918.0000 - val_fn: 211.0000 - val_accuracy: 0.9212 - val_precision: 0.7473 - val_recall: 0.6994 - val_auc: 0.9296\n",
      "Epoch 84/100\n",
      "38/38 [==============================] - 0s 4ms/step - loss: 3.2104e-05 - tp: 1907.0000 - fp: 733.0000 - tn: 15698.0000 - fn: 802.0000 - accuracy: 0.9198 - precision: 0.7223 - recall: 0.7039 - auc: 0.9107 - val_loss: 0.3325 - val_tp: 479.0000 - val_fp: 150.0000 - val_tn: 3934.0000 - val_fn: 223.0000 - val_accuracy: 0.9221 - val_precision: 0.7615 - val_recall: 0.6823 - val_auc: 0.9316\n",
      "Epoch 85/100\n",
      "38/38 [==============================] - 0s 4ms/step - loss: 3.2184e-05 - tp: 1883.0000 - fp: 693.0000 - tn: 15738.0000 - fn: 826.0000 - accuracy: 0.9206 - precision: 0.7310 - recall: 0.6951 - auc: 0.9098 - val_loss: 0.3397 - val_tp: 490.0000 - val_fp: 155.0000 - val_tn: 3929.0000 - val_fn: 212.0000 - val_accuracy: 0.9233 - val_precision: 0.7597 - val_recall: 0.6980 - val_auc: 0.9324\n",
      "Epoch 86/100\n",
      "38/38 [==============================] - 0s 3ms/step - loss: 3.1644e-05 - tp: 1933.0000 - fp: 734.0000 - tn: 15697.0000 - fn: 776.0000 - accuracy: 0.9211 - precision: 0.7248 - recall: 0.7135 - auc: 0.9140 - val_loss: 0.3313 - val_tp: 483.0000 - val_fp: 142.0000 - val_tn: 3942.0000 - val_fn: 219.0000 - val_accuracy: 0.9246 - val_precision: 0.7728 - val_recall: 0.6880 - val_auc: 0.9359\n",
      "Epoch 87/100\n",
      "38/38 [==============================] - 0s 4ms/step - loss: 3.1761e-05 - tp: 1910.0000 - fp: 705.0000 - tn: 15726.0000 - fn: 799.0000 - accuracy: 0.9214 - precision: 0.7304 - recall: 0.7051 - auc: 0.9132 - val_loss: 0.3330 - val_tp: 488.0000 - val_fp: 148.0000 - val_tn: 3936.0000 - val_fn: 214.0000 - val_accuracy: 0.9244 - val_precision: 0.7673 - val_recall: 0.6952 - val_auc: 0.9359\n",
      "Epoch 88/100\n",
      "38/38 [==============================] - 0s 4ms/step - loss: 3.1581e-05 - tp: 1914.0000 - fp: 680.0000 - tn: 15751.0000 - fn: 795.0000 - accuracy: 0.9229 - precision: 0.7379 - recall: 0.7065 - auc: 0.9172 - val_loss: 0.3315 - val_tp: 489.0000 - val_fp: 149.0000 - val_tn: 3935.0000 - val_fn: 213.0000 - val_accuracy: 0.9244 - val_precision: 0.7665 - val_recall: 0.6966 - val_auc: 0.9353\n",
      "Epoch 89/100\n",
      "38/38 [==============================] - 0s 3ms/step - loss: 3.1379e-05 - tp: 1941.0000 - fp: 669.0000 - tn: 15762.0000 - fn: 768.0000 - accuracy: 0.9249 - precision: 0.7437 - recall: 0.7165 - auc: 0.9154 - val_loss: 0.3416 - val_tp: 505.0000 - val_fp: 169.0000 - val_tn: 3915.0000 - val_fn: 197.0000 - val_accuracy: 0.9235 - val_precision: 0.7493 - val_recall: 0.7194 - val_auc: 0.9337\n",
      "Epoch 90/100\n",
      "38/38 [==============================] - 0s 4ms/step - loss: 3.1213e-05 - tp: 1917.0000 - fp: 637.0000 - tn: 15794.0000 - fn: 792.0000 - accuracy: 0.9253 - precision: 0.7506 - recall: 0.7076 - auc: 0.9159 - val_loss: 0.3309 - val_tp: 495.0000 - val_fp: 150.0000 - val_tn: 3934.0000 - val_fn: 207.0000 - val_accuracy: 0.9254 - val_precision: 0.7674 - val_recall: 0.7051 - val_auc: 0.9354\n",
      "Epoch 91/100\n",
      "38/38 [==============================] - 0s 4ms/step - loss: 3.0879e-05 - tp: 1947.0000 - fp: 700.0000 - tn: 15731.0000 - fn: 762.0000 - accuracy: 0.9236 - precision: 0.7355 - recall: 0.7187 - auc: 0.9216 - val_loss: 0.3219 - val_tp: 490.0000 - val_fp: 133.0000 - val_tn: 3951.0000 - val_fn: 212.0000 - val_accuracy: 0.9279 - val_precision: 0.7865 - val_recall: 0.6980 - val_auc: 0.9390\n",
      "Epoch 92/100\n",
      "38/38 [==============================] - 0s 3ms/step - loss: 3.1130e-05 - tp: 1928.0000 - fp: 675.0000 - tn: 15756.0000 - fn: 781.0000 - accuracy: 0.9239 - precision: 0.7407 - recall: 0.7117 - auc: 0.9169 - val_loss: 0.3178 - val_tp: 492.0000 - val_fp: 124.0000 - val_tn: 3960.0000 - val_fn: 210.0000 - val_accuracy: 0.9302 - val_precision: 0.7987 - val_recall: 0.7009 - val_auc: 0.9385\n",
      "Epoch 93/100\n",
      "38/38 [==============================] - 0s 4ms/step - loss: 3.0654e-05 - tp: 1953.0000 - fp: 658.0000 - tn: 15773.0000 - fn: 756.0000 - accuracy: 0.9261 - precision: 0.7480 - recall: 0.7209 - auc: 0.9219 - val_loss: 0.3280 - val_tp: 506.0000 - val_fp: 135.0000 - val_tn: 3949.0000 - val_fn: 196.0000 - val_accuracy: 0.9308 - val_precision: 0.7894 - val_recall: 0.7208 - val_auc: 0.9396\n",
      "Epoch 94/100\n",
      "38/38 [==============================] - 0s 3ms/step - loss: 3.0635e-05 - tp: 1947.0000 - fp: 606.0000 - tn: 15825.0000 - fn: 762.0000 - accuracy: 0.9285 - precision: 0.7626 - recall: 0.7187 - auc: 0.9219 - val_loss: 0.3224 - val_tp: 505.0000 - val_fp: 124.0000 - val_tn: 3960.0000 - val_fn: 197.0000 - val_accuracy: 0.9329 - val_precision: 0.8029 - val_recall: 0.7194 - val_auc: 0.9412\n",
      "Epoch 95/100\n",
      "38/38 [==============================] - 0s 3ms/step - loss: 3.0668e-05 - tp: 1936.0000 - fp: 637.0000 - tn: 15794.0000 - fn: 773.0000 - accuracy: 0.9263 - precision: 0.7524 - recall: 0.7147 - auc: 0.9219 - val_loss: 0.3183 - val_tp: 504.0000 - val_fp: 113.0000 - val_tn: 3971.0000 - val_fn: 198.0000 - val_accuracy: 0.9350 - val_precision: 0.8169 - val_recall: 0.7179 - val_auc: 0.9432\n",
      "Epoch 96/100\n",
      "38/38 [==============================] - 0s 4ms/step - loss: 3.0297e-05 - tp: 1972.0000 - fp: 608.0000 - tn: 15823.0000 - fn: 737.0000 - accuracy: 0.9297 - precision: 0.7643 - recall: 0.7279 - auc: 0.9262 - val_loss: 0.3192 - val_tp: 507.0000 - val_fp: 116.0000 - val_tn: 3968.0000 - val_fn: 195.0000 - val_accuracy: 0.9350 - val_precision: 0.8138 - val_recall: 0.7222 - val_auc: 0.9452\n",
      "Epoch 97/100\n",
      "38/38 [==============================] - 0s 4ms/step - loss: 3.0832e-05 - tp: 1928.0000 - fp: 590.0000 - tn: 15841.0000 - fn: 781.0000 - accuracy: 0.9284 - precision: 0.7657 - recall: 0.7117 - auc: 0.9196 - val_loss: 0.3162 - val_tp: 506.0000 - val_fp: 109.0000 - val_tn: 3975.0000 - val_fn: 196.0000 - val_accuracy: 0.9363 - val_precision: 0.8228 - val_recall: 0.7208 - val_auc: 0.9464\n",
      "Epoch 98/100\n",
      "38/38 [==============================] - 0s 4ms/step - loss: 3.0421e-05 - tp: 1943.0000 - fp: 637.0000 - tn: 15794.0000 - fn: 766.0000 - accuracy: 0.9267 - precision: 0.7531 - recall: 0.7172 - auc: 0.9248 - val_loss: 0.3127 - val_tp: 505.0000 - val_fp: 107.0000 - val_tn: 3977.0000 - val_fn: 197.0000 - val_accuracy: 0.9365 - val_precision: 0.8252 - val_recall: 0.7194 - val_auc: 0.9474\n",
      "Epoch 99/100\n",
      "38/38 [==============================] - 0s 3ms/step - loss: 3.0427e-05 - tp: 1957.0000 - fp: 619.0000 - tn: 15812.0000 - fn: 752.0000 - accuracy: 0.9284 - precision: 0.7597 - recall: 0.7224 - auc: 0.9231 - val_loss: 0.3195 - val_tp: 512.0000 - val_fp: 117.0000 - val_tn: 3967.0000 - val_fn: 190.0000 - val_accuracy: 0.9359 - val_precision: 0.8140 - val_recall: 0.7293 - val_auc: 0.9455\n",
      "Epoch 100/100\n",
      "38/38 [==============================] - 0s 4ms/step - loss: 3.0253e-05 - tp: 1954.0000 - fp: 635.0000 - tn: 15796.0000 - fn: 755.0000 - accuracy: 0.9274 - precision: 0.7547 - recall: 0.7213 - auc: 0.9250 - val_loss: 0.3069 - val_tp: 502.0000 - val_fp: 83.0000 - val_tn: 4001.0000 - val_fn: 200.0000 - val_accuracy: 0.9409 - val_precision: 0.8581 - val_recall: 0.7151 - val_auc: 0.9496\n"
     ]
    }
   ],
   "source": [
    "results = model.fit(\n",
    "    train_set,\n",
    "    train_labels,\n",
    "    batch_size=BATCH_SIZE,\n",
    "    epochs=EPOCHS,\n",
    "    callbacks = [early_stopping],\n",
    "    validation_data=(test_set, test_labels),\n",
    "    class_weight=class_weight)"
   ]
  },
  {
   "cell_type": "markdown",
   "id": "dc770da3-7ff4-4731-aea0-1416a3814fd0",
   "metadata": {},
   "source": [
    "# Step 4: Visualize model metrics"
   ]
  },
  {
   "cell_type": "markdown",
   "id": "36b424dc-50b6-4481-a585-3f63adf070f9",
   "metadata": {},
   "source": [
    "Now that we have a trained model, let's see how our model performed by plotting various metrics throughout our training epochs:"
   ]
  },
  {
   "cell_type": "code",
   "execution_count": 14,
   "id": "77da13d5-14db-498e-a776-676ebcfa63a7",
   "metadata": {
    "tags": []
   },
   "outputs": [
    {
     "data": {
      "image/png": "[encoded data removed]",
      "text/plain": [
       "<Figure size 1200x1000 with 4 Axes>"
      ]
     },
     "metadata": {},
     "output_type": "display_data"
    }
   ],
   "source": [
    "mpl.rcParams['figure.figsize'] = (12, 10)\n",
    "colors = plt.rcParams['axes.prop_cycle'].by_key()['color']\n",
    "\n",
    "def plot_metrics(history):\n",
    "  metrics =  ['loss', 'auc', 'precision', 'recall']\n",
    "  for n, metric in enumerate(metrics):\n",
    "    name = metric.replace(\"_\",\" \").capitalize()\n",
    "    plt.subplot(2,2,n+1)\n",
    "    plt.plot(history.epoch,  history.history[metric], color=colors[0], label='Train')\n",
    "    plt.plot(history.epoch, history.history['val_'+metric],\n",
    "             color=colors[0], linestyle=\"--\", label='Val')\n",
    "    plt.xlabel('Epoch')\n",
    "    plt.ylabel(name)\n",
    "    if metric == 'loss':\n",
    "      plt.ylim([0, plt.ylim()[1]])\n",
    "    elif metric == 'auc':\n",
    "      plt.ylim([0.8,1])\n",
    "    else:\n",
    "      plt.ylim([0,1])\n",
    "\n",
    "    plt.legend()\n",
    "\n",
    "plot_metrics(results)"
   ]
  },
  {
   "cell_type": "markdown",
   "id": "f9ac33dc-e39f-4394-882d-06c5a68c9b96",
   "metadata": {},
   "source": [
    "# Step 5: Print a confusion matrix"
   ]
  },
  {
   "cell_type": "markdown",
   "id": "3ddccf08-4eea-4b66-a012-b6d6c9e5c324",
   "metadata": {},
   "source": [
    "A confusion matrix[https://en.wikipedia.org/wiki/Confusion_matrix] is a nice way to visualize how our model performed across the test dataset. For each class, it will show us the percentage of test examples that our model predicted correctly and incorrectly. Scikit Learn has some utilities for creating and plotting confusion matrices, which we'll use here.\n",
    "\n",
    "At the beginning of our notebook we imported the `confusion_matrix` utility. To use it, we'll first create a list of our model's predictions. Here we'll round the values returned from our model so that this lists matches our list of ground truth labels:"
   ]
  },
  {
   "cell_type": "code",
   "execution_count": 15,
   "id": "4a9ae629-91b8-4620-b40e-412f836b44cb",
   "metadata": {
    "tags": []
   },
   "outputs": [
    {
     "name": "stdout",
     "output_type": "stream",
     "text": [
      "150/150 [==============================] - 0s 1ms/step\n"
     ]
    }
   ],
   "source": [
    "predicted = model.predict(test_set)\n",
    "\n",
    "y_pred = []\n",
    "\n",
    "for i in predicted.tolist():\n",
    "  y_pred.append(int(round(i[0])))"
   ]
  },
  {
   "cell_type": "markdown",
   "id": "343603a9-9790-43b7-8f90-a675077c2131",
   "metadata": {},
   "source": [
    "Now we're ready to feed this into the confusion_matrix method, along with our ground truth labels:"
   ]
  },
  {
   "cell_type": "code",
   "execution_count": 16,
   "id": "4f1b4dc1-0288-4448-932d-06d30c327bde",
   "metadata": {
    "tags": []
   },
   "outputs": [
    {
     "name": "stdout",
     "output_type": "stream",
     "text": [
      "[[4001   83]\n",
      " [ 200  502]]\n"
     ]
    }
   ],
   "source": [
    "cm = confusion_matrix(test_labels.values, y_pred)\n",
    "print(cm)"
   ]
  },
  {
   "cell_type": "markdown",
   "id": "ed2d3bec-1a08-455e-b699-b7819f7d2c8b",
   "metadata": {},
   "source": [
    "This shows us the absolute numbers of our model's correct and incorrect predictions on our test set. The number on the top left shows how many examples from our test set our model correctly predicted as non-fraudulent. The number on the bottom right shows how many it correctly predicted as fraudulent (we care most about this number). You can see that it predicted the majority of samples correctly for each class."
   ]
  },
  {
   "cell_type": "markdown",
   "id": "59e81921-d306-49d4-83d5-80d0ccba95a8",
   "metadata": {},
   "source": [
    "###### To make this easier to visualize, we've adapted the `plot_confusion_matrix` function from the Scikit Learn"
   ]
  },
  {
   "cell_type": "code",
   "execution_count": 17,
   "id": "3805d15b-9a40-43a4-a022-631d151a88b8",
   "metadata": {
    "tags": []
   },
   "outputs": [],
   "source": [
    "def plot_confusion_matrix(cm, classes,\n",
    "                          normalize=False,\n",
    "                          title='Confusion matrix',\n",
    "                          cmap=plt.cm.Blues):\n",
    "    \"\"\"\n",
    "    This function prints and plots the confusion matrix.\n",
    "    Normalization can be applied by setting `normalize=True`.\n",
    "    \"\"\"\n",
    "    plt.imshow(cm, interpolation='nearest', cmap=cmap)\n",
    "    plt.title(title)\n",
    "    plt.colorbar()\n",
    "    tick_marks = np.arange(len(classes))\n",
    "    plt.xticks(tick_marks, classes, rotation=45)\n",
    "    plt.yticks(tick_marks, classes)\n",
    "\n",
    "    if normalize:\n",
    "        cm = np.round(cm.astype('float') / cm.sum(axis=1)[:, np.newaxis], 3)\n",
    "\n",
    "    thresh = cm.max() / 2.\n",
    "    for i, j in itertools.product(range(cm.shape[0]), range(cm.shape[1])):\n",
    "        plt.text(j, i, cm[i, j],\n",
    "                 horizontalalignment=\"center\",\n",
    "                 color=\"white\" if cm[i, j] > thresh else \"black\")\n",
    "\n",
    "    plt.tight_layout()\n",
    "    plt.ylabel('True label')\n",
    "    plt.xlabel('Predicted label')"
   ]
  },
  {
   "cell_type": "markdown",
   "id": "f0738c44-22a2-4a82-ab8b-5d604cb42094",
   "metadata": {},
   "source": [
    "And create the plot by passing it the data from our model. We're setting normalize to True here so that the confusion matrix displays the number of correct and incorrect predictions as percentages:"
   ]
  },
  {
   "cell_type": "code",
   "execution_count": 18,
   "id": "a4c197bb-8158-42aa-a774-02d77a76417b",
   "metadata": {
    "tags": []
   },
   "outputs": [
    {
     "data": {
      "image/png": "[encoded data removed]",
      "text/plain": [
       "<Figure size 1200x1000 with 2 Axes>"
      ]
     },
     "metadata": {},
     "output_type": "display_data"
    }
   ],
   "source": [
    "classes = ['not fraud', 'fraud']\n",
    "plot_confusion_matrix(cm, classes, normalize=True)"
   ]
  },
  {
   "cell_type": "markdown",
   "id": "ffdebc92-e2f8-423a-99e8-b695095a0347",
   "metadata": {
    "tags": []
   },
   "source": [
    "# 6. Using the Explainable AI SDK"
   ]
  },
  {
   "cell_type": "markdown",
   "id": "16ca8e2a-15f9-4e26-ae29-cfb7125da8e0",
   "metadata": {
    "tags": []
   },
   "source": [
    "## Step 1: Export trained model"
   ]
  },
  {
   "cell_type": "markdown",
   "id": "cdb3b3b9-d22a-48cb-8399-94c8ab5508f5",
   "metadata": {},
   "source": [
    "#### we will save our model into a directory in our notebook instance:"
   ]
  },
  {
   "cell_type": "code",
   "execution_count": 19,
   "id": "18322b45-b3ce-46c8-971a-cdb8d33c42b3",
   "metadata": {
    "tags": []
   },
   "outputs": [
    {
     "name": "stdout",
     "output_type": "stream",
     "text": [
      "INFO:tensorflow:Assets written to: fraud_model/assets\n"
     ]
    },
    {
     "name": "stderr",
     "output_type": "stream",
     "text": [
      "INFO:tensorflow:Assets written to: fraud_model/assets\n"
     ]
    }
   ],
   "source": [
    "model_dir = 'fraud_model'\n",
    "tf.saved_model.save(model, model_dir)"
   ]
  },
  {
   "cell_type": "markdown",
   "id": "9ee2dfe3-528f-42a8-8e45-1d361a87268b",
   "metadata": {},
   "source": [
    "##### a new directory called fraud_model/ created."
   ]
  },
  {
   "cell_type": "markdown",
   "id": "d451f765-fffd-4864-84d7-83e4f2e2393b",
   "metadata": {
    "tags": []
   },
   "source": [
    "# Step 2: Get explanation metadata with the SDK"
   ]
  },
  {
   "cell_type": "markdown",
   "id": "0c77af3b-717c-41d0-8891-c68c270fe4e0",
   "metadata": {
    "tags": []
   },
   "source": [
    "Next, we'll point the Explainable AI SDK at that directory. Doing this will generate metadata necessary for getting model explanations. The `get_metadata()` method shows metadata the SDK infers from your model, like input names:"
   ]
  },
  {
   "cell_type": "code",
   "execution_count": 20,
   "id": "d6cfc706-b0d2-4ffc-a850-50bb215e353d",
   "metadata": {
    "tags": []
   },
   "outputs": [
    {
     "name": "stdout",
     "output_type": "stream",
     "text": [
      "{'outputs': OrderedDict([('dense_1', {'output_tensor_name': 'dense_1'})]), 'inputs': OrderedDict([('dense_input', {'input_tensor_name': 'dense_input', 'encoding': 'identity', 'modality': 'numeric'})]), 'framework': 'tensorflow2', 'tags': ['explainable_ai_sdk']}\n"
     ]
    }
   ],
   "source": [
    "model_builder = SavedModelMetadataBuilder(model_dir)\n",
    "metadata = model_builder.get_metadata()\n",
    "print(metadata)"
   ]
  },
  {
   "cell_type": "markdown",
   "id": "b2fcf0f7-08a8-4bbf-9e09-16c33bfc4a49",
   "metadata": {
    "tags": []
   },
   "source": [
    "# Step 3: Specifying our model's baseline"
   ]
  },
  {
   "cell_type": "markdown",
   "id": "b51819c8-5599-4b5f-a12d-0a96b84845e3",
   "metadata": {},
   "source": [
    "###### For tabular data, the Explainable AI service works by returning attribution values for each feature. These values indicate how much a particular feature affected the prediction. Let's say the amount of a particular transaction caused our model to increase its predicted fraud probability by 0.2%. You might be thinking \"0.2% relative to what??\". That brings us to the concept of a baseline."
   ]
  },
  {
   "cell_type": "markdown",
   "id": "2cf229c8-ddb3-42e3-9dca-1a18a684bf0d",
   "metadata": {},
   "source": [
    "###### The baseline for our model is essentially what it's comparing against. We select the baseline value for each feature in our model, and the baseline prediction consequently becomes the value our model predicts when the features are set at the baseline."
   ]
  },
  {
   "cell_type": "markdown",
   "id": "6311bdfc-d013-4af3-923c-e7ac4f3ced91",
   "metadata": {},
   "source": [
    "###### Choosing a baseline depends on the prediction task you're solving. For numerical features, it's common to use the median value of each feature in your dataset as the baseline. In the case of fraud detection, however, this isn't exactly what we want. We care most about explaining the cases when our model labels a transaction as fraudulent. That means the baseline case we want to compare against is non-fraudulent transactions."
   ]
  },
  {
   "cell_type": "markdown",
   "id": "5d3100a3-ff8b-488f-82dc-c772f90940b7",
   "metadata": {},
   "source": [
    "###### To account for this, we'll use the median values of the non-fraudulent transactions in our dataset as the baseline. We can get the median by using the `not_fraud_sample` DataFrame we extracted above, and scaling it to match our model's expected inputs:"
   ]
  },
  {
   "cell_type": "code",
   "execution_count": 21,
   "id": "1f868b0f-4835-4f4b-a096-5dab2525cc1e",
   "metadata": {},
   "outputs": [
    {
     "name": "stderr",
     "output_type": "stream",
     "text": [
      "/opt/conda/envs/tensorflow/lib/python3.10/site-packages/sklearn/base.py:465: UserWarning: X does not have valid feature names, but StandardScaler was fitted with feature names\n",
      "  warnings.warn(\n"
     ]
    }
   ],
   "source": [
    "not_fraud_sample = not_fraud_sample.drop(columns=['nameOrig', 'nameDest', 'isFlaggedFraud', 'isFraud'])\n",
    "\n",
    "baseline = scaler.transform(not_fraud_sample.values)\n",
    "baseline = np.clip(baseline, -5, 5)\n",
    "baseline_values = np.median(baseline, axis=0)"
   ]
  },
  {
   "cell_type": "markdown",
   "id": "219777d4-e4af-4091-be3d-d7691fa6ae49",
   "metadata": {},
   "source": [
    "###### Note that we don't need to specify a baseline. If we don't, the SDK will use 0 as a baseline for each input value our model is expecting. In our fraud detection use case, it makes sense to specify a baseline, which we'll do below:"
   ]
  },
  {
   "cell_type": "code",
   "execution_count": 25,
   "id": "b7a066c9-eb5f-44ba-b5ad-1fd8d612ff3a",
   "metadata": {
    "tags": []
   },
   "outputs": [],
   "source": [
    "input_name = list(metadata['inputs'])[0]\n",
    "model_builder.set_numeric_metadata(input_name, input_baselines=[baseline_values.tolist()], index_feature_mapping=df.columns.tolist()[:6])\n",
    "model_builder.save_metadata(model_dir)\n",
    "# Save your trained model\n",
    "model.save('fraud_model/fraud_model.h5')"
   ]
  },
  {
   "cell_type": "markdown",
   "id": "ee06ee6f-6caa-410c-ba47-5d0b0d1b672f",
   "metadata": {
    "tags": []
   },
   "source": [
    "###### Running the `save_metadata()` method above created a file in our model's directory called `explanation_metadata.json`. In your notebook, navigate to the fraud_model/ directory to confirm that file was created. This contains metadata that the SDK will use to generate feature attributions."
   ]
  },
  {
   "cell_type": "markdown",
   "id": "87a388de-3fe9-467b-864f-dfcf38d8ab66",
   "metadata": {
    "tags": []
   },
   "source": [
    "# Step 4: Getting model explanations"
   ]
  },
  {
   "cell_type": "markdown",
   "id": "bd5223d5-5c82-4245-9788-1a2afe3234fd",
   "metadata": {
    "tags": []
   },
   "source": [
    "###### We're now ready to get feature attributions on individual examples. To do that, we'll first create a local reference to our model using the SDK:"
   ]
  },
  {
   "cell_type": "markdown",
   "id": "3c6e38c3-fc16-4ff8-b6fc-37651b1bacb6",
   "metadata": {},
   "source": [
    "##### The first step is to export the model locally. We will use the AI Platform Explanability SDK method load_model_from_local_path(), with the parameters:\n",
    "\n",
    "- `model_path`: The GCS location of the AI Platform model.\n",
    "- `config`: The type of Exolainable AI explanations to instrument the local model f"
   ]
  },
  {
   "cell_type": "code",
   "execution_count": null,
   "id": "1d5e2eb6-6aa0-4d5e-90ef-c315970362c8",
   "metadata": {
    "tags": []
   },
   "outputs": [],
   "source": [
    "# local_model = xai.load_model_from_local_path(\n",
    "#    model_path=model_dir,\n",
    "#                                config=xai.model.configs.SampledShapleyConfig()\n",
    "\n",
    "# )"
   ]
  },
  {
   "cell_type": "markdown",
   "id": "70c743f8-5c6d-4fd3-ab46-e67b95f5ba1f",
   "metadata": {
    "tags": []
   },
   "source": [
    "# Next, let's get predictions and explanations on our model from an example transaction that should be classified as fraudulent:"
   ]
  },
  {
   "cell_type": "code",
   "execution_count": null,
   "id": "5879e188-705b-4c74-aac7-f210841cbab0",
   "metadata": {
    "tags": []
   },
   "outputs": [],
   "source": [
    "# fraud_example = [0.722,0.139,-0.114,-0.258,-0.271,-0.305]\n",
    "# response = local_model.explain([{input_name: fraud_example}])\n",
    "# response[0].visualize_attributions()"
   ]
  },
  {
   "cell_type": "markdown",
   "id": "1e431a0e-2399-4172-913f-38af9e4aa94a",
   "metadata": {},
   "source": [
    "###### In this example, the account's initial balance before the transaction took place was the biggest indicator of fraud, pushing our model's prediction up from the baseline more than 0.5. The transaction's amount, resulting balance at the destination account, and step were the next biggest indicators. In the dataset, the \"step\" represents a unit of time (1 step is 1 hour). Attribution values can also be negative.\n",
    "\n",
    "###### The `\"approximation error\"` that is printed above the visualizations lets you know how much you can trust the explanation. Generally, error over 5% means you may not be able to rely on the feature attributions. Remember that your explanations are only as good as the training data and model you used. Improving your training data, model, or trying a different model baseline can decrease the approximation error.\n",
    "\n",
    "###### You may also be able to decrease this error by increasing the number of steps used in your explanation method. You can change this with the SDK by adding a `path_count` parameter to your explanation config (the default is 10 if you don't specify):"
   ]
  },
  {
   "cell_type": "code",
   "execution_count": 27,
   "id": "bf9e87fe-3695-4b8d-b7d4-85e036b69d76",
   "metadata": {},
   "outputs": [],
   "source": [
    "# local_model = xai.load_model_from_local_path(\n",
    "#     model_dir, \n",
    "#     xai.SampledShapleyConfig(path_count=20)\n",
    "# )\n",
    "# model = tf.saved_model.load('fraud_model')\n",
    "new_model = tf.keras.models.load_model('fraud_model/fraud_model.h5')\n",
    "# Save the entire model as a `.keras` zip archive.\n",
    "# model.save('fraud_model.keras')\n",
    "# metadata = model_builder.load_metadata('fraud_model/explanation_metadata')  "
   ]
  },
  {
   "cell_type": "markdown",
   "id": "12753242-332d-4ea1-947a-d1d442a02cca",
   "metadata": {},
   "source": [
    "###### There is lots more you can do with Explainable AI on this model. Some ideas include:\n",
    "\n",
    "- Sending many examples to our model and averaging the attribution values to see if certain features are more important overall. We could use this to improve our model, and potentially remove features that aren't important\n",
    "- Finding false positives that our model flags as fraud but are non-fraudulent transactions, and examining their attribution values\n",
    "- Use a different baseline and see how this impacts the attribution values"
   ]
  },
  {
   "cell_type": "markdown",
   "id": "39534d0d-b3c1-41e0-a6f8-f0aaece286d9",
   "metadata": {},
   "source": [
    "# 7. Deploy the model to AI Platform Prediction"
   ]
  },
  {
   "cell_type": "markdown",
   "id": "36bf04c4-4495-433c-820c-166c8f20ddca",
   "metadata": {},
   "source": [
    "## Step 1: Copy your saved model directory to a Cloud Storage Bucket."
   ]
  },
  {
   "cell_type": "markdown",
   "id": "54215790-d939-4432-b4ee-87f9cc1c1e80",
   "metadata": {},
   "source": [
    "With the SDK steps we ran previously, you have everything you need to deploy your model to AI Platform. To prepare for deployment, you'll need to put your SavedModel assets and explanation metadata in a Cloud Storage Bucket that the Explainable AI service can read.\n",
    "\n",
    "To do that, we'll define some environment variables. Fill in the values below with the name of your Google Cloud project and the name of the bucket you'd like to create (must be globally unique)."
   ]
  },
  {
   "cell_type": "code",
   "execution_count": null,
   "id": "fa7eaf2c-e54b-4bb2-80f5-171854749583",
   "metadata": {
    "tags": []
   },
   "outputs": [],
   "source": [
    "# Update these to your own GCP project and model\n",
    "GCP_PROJECT = 'graduation-project-1-414211'\n",
    "MODEL_BUCKET = 'gs://fraud_detection_bucket'"
   ]
  },
  {
   "cell_type": "markdown",
   "id": "6edb6449-31a2-4f2c-9e02-15a8bf26fe72",
   "metadata": {},
   "source": [
    "Now we're ready to create a storage bucket to store our exported TensorFlow model assets. We'll point AI Platform at this bucket when we deploy the model.\n",
    "\n",
    "##### Run this `gsutil` command from within your notebook to create a bucket:"
   ]
  },
  {
   "cell_type": "code",
   "execution_count": null,
   "id": "d431c11f-69ba-44e5-9d76-c672b7954f29",
   "metadata": {},
   "outputs": [],
   "source": [
    "!gsutil mb -l 'us-central1' $MODEL_BUCKET"
   ]
  },
  {
   "cell_type": "markdown",
   "id": "fdaddea6-7232-454f-ac10-b3e9caa555a5",
   "metadata": {},
   "source": [
    "##### Then, copy your local model directory into that bucket:"
   ]
  },
  {
   "cell_type": "code",
   "execution_count": null,
   "id": "0916816e-13ef-4037-aecc-5dc01f31fbd8",
   "metadata": {},
   "outputs": [],
   "source": [
    "!gsutil -m cp -r ./$model_dir/* $MODEL_BUCKET/explanations"
   ]
  },
  {
   "cell_type": "markdown",
   "id": "2b6f7e3c-3209-46b7-abd0-23bdfff53d77",
   "metadata": {},
   "source": [
    "## Step 2: Deploy the model"
   ]
  },
  {
   "cell_type": "markdown",
   "id": "257d07a4-2309-45e4-b6d9-3296229c9a73",
   "metadata": {},
   "source": [
    "Next, we'll define some variables we'll use in our deployment commands:"
   ]
  },
  {
   "cell_type": "code",
   "execution_count": null,
   "id": "b9b599a7-b7f6-49bf-af93-27b1277a428b",
   "metadata": {
    "tags": []
   },
   "outputs": [],
   "source": [
    "MODEL = 'fraud_detection_Model'\n",
    "VERSION = 'v1'\n",
    "model_path = MODEL_BUCKET + '/explanations'"
   ]
  },
  {
   "cell_type": "markdown",
   "id": "b0a54e52-ba7c-454f-8508-9f0c5ddff5fd",
   "metadata": {},
   "source": [
    "###### We can create the model with the following gcloud command:"
   ]
  },
  {
   "cell_type": "code",
   "execution_count": null,
   "id": "d0c31a14-a77e-4af1-b435-fffb609f5762",
   "metadata": {
    "tags": []
   },
   "outputs": [],
   "source": [
    "!gcloud ai-platform models create $MODEL --region=us-central1 \n",
    "# !gcloud ai-platform models create $MODEL --region=us-west1"
   ]
  },
  {
   "cell_type": "markdown",
   "id": "0e14d115-e6cc-4ee3-90bf-77ac39f7126e",
   "metadata": {},
   "source": [
    "###### Now we're ready to deploy our first version of this model with gcloud. The version will take ~5-10 minutes to deploy:"
   ]
  },
  {
   "cell_type": "code",
   "execution_count": null,
   "id": "fd0e5456-b688-4bf8-a2b5-8bb95de0d982",
   "metadata": {
    "tags": []
   },
   "outputs": [],
   "source": [
    "!gcloud beta ai-platform versions create $VERSION \\\n",
    "--model $MODEL \\\n",
    "--origin $model_path \\\n",
    "--runtime-version 2.1 \\\n",
    "--framework TENSORFLOW \\\n",
    "--python-version 3.7 \\\n",
    "--machine-type n1-standard-2 \\\n",
    "--explanation-method 'sampled-shapley' \\\n",
    "--num-paths 10 \\\n",
    "--region=us-central1 "
   ]
  },
  {
   "cell_type": "markdown",
   "id": "5cc0bf82-93ff-4dc0-ac0d-d1273ca2a6c3",
   "metadata": {},
   "source": [
    "In the `origin` flag, we pass in the Cloud Storage location of our saved model and metadata file. Explainable AI currently has two different explanation methods available for tabular models. Here we're using Sampled Shapley. The `num-paths` parameter indicates the number of paths sampled for each input feature. Generally, the more complex the model, the more approximation steps are needed to reach reasonable convergence."
   ]
  },
  {
   "cell_type": "markdown",
   "id": "0851b6e1-10f3-433f-b6d2-26ec589317de",
   "metadata": {},
   "source": [
    "#### To confirm your model deployed correctly, run the following gcloud command:"
   ]
  },
  {
   "cell_type": "code",
   "execution_count": null,
   "id": "84135ffa-2996-425f-9b27-14b70d80dfa7",
   "metadata": {},
   "outputs": [],
   "source": [
    "!gcloud ai-platform versions describe $VERSION --model $MODEL --region=us-central1\n"
   ]
  },
  {
   "cell_type": "markdown",
   "id": "4342c7e2-5790-4a6f-b473-2a5f4b706123",
   "metadata": {
    "tags": []
   },
   "source": [
    "##### The state should be READY."
   ]
  },
  {
   "cell_type": "markdown",
   "id": "b2a3e97c-a52e-4799-85fa-d9cb29a3de3d",
   "metadata": {},
   "source": [
    "## Step 3: Getting predictions and explanations on the deployed model"
   ]
  },
  {
   "cell_type": "markdown",
   "id": "934b7327-5a5e-418b-9ae2-5d10ad7ce2f4",
   "metadata": {},
   "source": [
    "For the purposes of explainability, we care most about explaining the cases where our model predicts fraud. We'll send 5 test examples to our model that are all fraudulent transactions.\n",
    "\n",
    "We'll use the Google Cloud CLI to get predictions. Run the following code to get the indices of all of the fraud examples from our test set:"
   ]
  },
  {
   "cell_type": "code",
   "execution_count": null,
   "id": "5c63a71a-a16b-45ff-a4ab-a40823d12617",
   "metadata": {},
   "outputs": [],
   "source": [
    "fraud_indices = []\n",
    "\n",
    "for i,val in enumerate(test_labels):\n",
    "    if val == 1:\n",
    "        fraud_indices.append(i)"
   ]
  },
  {
   "cell_type": "markdown",
   "id": "e3861711-dba1-47bd-a3ab-5911b3811dfd",
   "metadata": {},
   "source": [
    "Next we'll save 5 examples in the format our model is expecting, and write them to a file:"
   ]
  },
  {
   "cell_type": "code",
   "execution_count": null,
   "id": "4264bef1-21da-4a26-887a-0d04e0c759d6",
   "metadata": {},
   "outputs": [],
   "source": [
    "num_test_examples = 5\n",
    "\n",
    "instances = []\n",
    "for i in range(num_test_examples):\n",
    "    ex = test_set[fraud_indices[i]]\n",
    "    instances.append({input_name: ex.tolist()})\n",
    "\n",
    "with open('prediction.json', 'a') as outputfile:\n",
    "    json.dump({\"instances\": instances}, outputfile)"
   ]
  },
  {
   "cell_type": "markdown",
   "id": "e5e88777-386f-45be-a454-3781611338f5",
   "metadata": {},
   "source": [
    "##### We can send these five examples to our model using gcloud:"
   ]
  },
  {
   "cell_type": "code",
   "execution_count": null,
   "id": "03798915-8f96-498e-8682-287bdfe308c3",
   "metadata": {},
   "outputs": [],
   "source": [
    "!gcloud beta ai-platform explain \\\n",
    "--model=$MODEL \\\n",
    "--version=$VERSION \\\n",
    "--region='us-central1' \\\n",
    "--json-request=prediction.json"
   ]
  },
  {
   "cell_type": "markdown",
   "id": "f2f89061-f35f-4938-aa40-c74aa8a6e256",
   "metadata": {},
   "source": [
    "In the response JSON, you'll see the attribution values for each feature across these examples. The `example_score` key for each example includes the model's prediction - in this case the percentage likelihood that a particular transaction is fraudulent."
   ]
  },
  {
   "cell_type": "markdown",
   "id": "8819d89e-4f73-4ace-9cec-5cea27272afb",
   "metadata": {},
   "source": [
    "## Finished \n",
    "### With Love By `Rogina Adnan`"
   ]
  },
  {
   "cell_type": "code",
   "execution_count": null,
   "id": "0eda242a-67b3-4b7e-a8c5-590384ce80f7",
   "metadata": {
    "tags": []
   },
   "outputs": [],
   "source": [
    "new_model = tf.saved_model.load('fraud_model')\n",
    "# Prepare the input data\n"
   ]
  },
  {
   "cell_type": "code",
   "execution_count": 28,
   "id": "1fcb6216-2d99-44e4-9924-44bf3f564b40",
   "metadata": {
    "tags": []
   },
   "outputs": [
    {
     "ename": "AttributeError",
     "evalue": "'Sequential' object has no attribute 'signatures'",
     "output_type": "error",
     "traceback": [
      "\u001b[0;31m---------------------------------------------------------------------------\u001b[0m",
      "\u001b[0;31mAttributeError\u001b[0m                            Traceback (most recent call last)",
      "Cell \u001b[0;32mIn[28], line 13\u001b[0m\n\u001b[1;32m     11\u001b[0m input_data \u001b[38;5;241m=\u001b[39m np\u001b[38;5;241m.\u001b[39marray([[\u001b[38;5;241m0.1\u001b[39m, \u001b[38;5;241m0.2\u001b[39m, \u001b[38;5;241m0.3\u001b[39m, \u001b[38;5;241m0.4\u001b[39m, \u001b[38;5;241m0.5\u001b[39m]])\n\u001b[1;32m     12\u001b[0m \u001b[38;5;66;03m# Get the input and output tensors\u001b[39;00m\n\u001b[0;32m---> 13\u001b[0m signature_definition \u001b[38;5;241m=\u001b[39m \u001b[43mnew_model\u001b[49m\u001b[38;5;241;43m.\u001b[39;49m\u001b[43msignatures\u001b[49m[\u001b[38;5;124m'\u001b[39m\u001b[38;5;124mserving_default\u001b[39m\u001b[38;5;124m'\u001b[39m]\n\u001b[1;32m     14\u001b[0m input_tensor \u001b[38;5;241m=\u001b[39m signature_definition\u001b[38;5;241m.\u001b[39minputs[\u001b[38;5;241m0\u001b[39m]\n\u001b[1;32m     16\u001b[0m \u001b[38;5;66;03m# Print the input tensor shape and data type\u001b[39;00m\n",
      "\u001b[0;31mAttributeError\u001b[0m: 'Sequential' object has no attribute 'signatures'"
     ]
    }
   ],
   "source": [
    "# Show the model architecture\n",
    "# new_model.summary()\n",
    "# print(new_model['Class'])\n",
    " # Make a prediction using the TensorFlow model\n",
    "# predictions = model.predict(input_data)\n",
    "# Load the SavedModel\n",
    "# loaded_model = tf.saved_model.load(')\n",
    "\n",
    "# Get the input and output tensors\n",
    "\n",
    "input_data = np.array([[0.1, 0.2, 0.3, 0.4, 0.5]])\n",
    "# Get the input and output tensors\n",
    "signature_definition = new_model.signatures['serving_default']\n",
    "input_tensor = signature_definition.inputs[0]\n",
    "\n",
    "# Print the input tensor shape and data type\n",
    "print(input_tensor.shape)\n",
    "print(input_tensor.dtype)\n",
    "\n"
   ]
  },
  {
   "cell_type": "code",
   "execution_count": null,
   "id": "528fad1c-0eeb-4b64-a3d6-ee98e1177eab",
   "metadata": {
    "tags": []
   },
   "outputs": [],
   "source": [
    "# Get the input and output tensors\n",
    "# Prepare the input data\n",
    "input_data = np.array([[1, 2, 3, 4], [5, 6, 7, 8], [9, 10, 11, 12]], dtype=np.float32)"
   ]
  },
  {
   "cell_type": "code",
   "execution_count": 32,
   "id": "56729a5f-a9d0-4284-8bb7-d13d828bb0d4",
   "metadata": {
    "tags": []
   },
   "outputs": [
    {
     "name": "stdout",
     "output_type": "stream",
     "text": [
      "TensorSpec(shape=(None, 5), dtype=tf.float64, name=None)\n"
     ]
    }
   ],
   "source": [
    "dataset = tf.data.Dataset.from_tensor_slices(input_data)\n",
    "# Batch the dataset to create a _BatchDataset\n",
    "batch_dataset = dataset.batch(4)\n",
    "\n",
    "# The resulting _BatchDataset has an element_spec of:\n",
    "# TensorSpec(shape=(4, 4), dtype=tf.float32, name=None)\n",
    "print(batch_dataset.element_spec)"
   ]
  },
  {
   "cell_type": "code",
   "execution_count": null,
   "id": "fc2ce897-7f00-476b-854b-64c12fb81a11",
   "metadata": {
    "tags": []
   },
   "outputs": [],
   "source": [
    "# Make predictions\n",
    "print(dataset)\n",
    "# for data in dataset:\n",
    "    # predictions = model(data)\n",
    "    # print(predictions)"
   ]
  },
  {
   "cell_type": "code",
   "execution_count": 60,
   "id": "f4cbbc21-c05d-412b-bec4-e88f0fbf8045",
   "metadata": {
    "tags": []
   },
   "outputs": [
    {
     "name": "stdout",
     "output_type": "stream",
     "text": [
      "1/1 [==============================] - 0s 18ms/step\n",
      "This transaction might be fraudulent. [[0.73639786]]\n"
     ]
    }
   ],
   "source": [
    "# Assuming you have loaded your model (e.g., from a SavedModel)\n",
    "m = tf.keras.models.load_model('fraud_model/fraud_model.h5')\n",
    "\n",
    "# Sample transaction data (replace with your actual data)\n",
    "new_transaction = {\n",
    "    'amount': 1000,\n",
    "    'step': 0\n",
    "}\n",
    "\n",
    "# Preprocess the data (example using scaling and one-hot encoding)\n",
    "scaler = StandardScaler()\n",
    "# onehot_encoder = tf.keras.utils.to_categorical(['New York'])  # Assuming categorical encoding\n",
    "# Assuming you have assigned a unique label (e.g., 0) to \"New York\"\n",
    "location_label = 0\n",
    "\n",
    "# One-hot encode the label\n",
    "onehot_encoder = tf.keras.utils.to_categorical([location_label])\n",
    "\n",
    "preprocessed_data = scaler.fit_transform([\n",
    "    [new_transaction['amount']]\n",
    "])\n",
    "preprocessed_data = np.concatenate([preprocessed_data, onehot_encoder], axis=1)\n",
    "\n",
    "# Make the prediction\n",
    "# Assuming you know the expected number of features (6)\n",
    "num_missing_features = 6 - preprocessed_data.shape[1]\n",
    "padding_array = np.zeros((preprocessed_data.shape[0], num_missing_features))\n",
    "preprocessed_data = np.concatenate([preprocessed_data, padding_array], axis=1)\n",
    "# Reshape as usual\n",
    "preprocessed_data = preprocessed_data.reshape((1, 6))\n",
    "\n",
    "\n",
    "# Make the prediction\n",
    "prediction = new_model.predict(preprocessed_data)\n",
    "\n",
    "# Interpret the prediction (example: assume model outputs probability)\n",
    "if prediction[0][0] > 0.5:\n",
    "    print(f\"This transaction might be fraudulent. {prediction}\")\n",
    "else:\n",
    "    print(\"This transaction seems likely to be legitimate.\")"
   ]
  },
  {
   "cell_type": "code",
   "execution_count": null,
   "id": "918157ef-228d-4c4f-9aa8-676b96c03de2",
   "metadata": {},
   "outputs": [],
   "source": []
  }
 ],
 "metadata": {
  "environment": {
   "kernel": "conda-env-tensorflow-tensorflow",
   "name": "workbench-notebooks.m115",
   "type": "gcloud",
   "uri": "gcr.io/deeplearning-platform-release/workbench-notebooks:m115"
  },
  "kernelspec": {
   "display_name": "TensorFlow 2-11 (Local)",
   "language": "python",
   "name": "conda-env-tensorflow-tensorflow"
  },
  "language_info": {
   "codemirror_mode": {
    "name": "ipython",
    "version": 3
   },
   "file_extension": ".py",
   "mimetype": "text/x-python",
   "name": "python",
   "nbconvert_exporter": "python",
   "pygments_lexer": "ipython3",
   "version": "3.10.13"
  }
 },
 "nbformat": 4,
 "nbformat_minor": 5
}
